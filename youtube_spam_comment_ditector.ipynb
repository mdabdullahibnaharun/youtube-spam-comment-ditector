{
  "nbformat": 4,
  "nbformat_minor": 5,
  "metadata": {
    "colab": {
      "name": "youtube_spam_comment_ditector.ipynb",
      "provenance": [],
      "collapsed_sections": []
    },
    "kernelspec": {
      "display_name": "Python 3",
      "language": "python",
      "name": "python3"
    },
    "language_info": {
      "codemirror_mode": {
        "name": "ipython",
        "version": 3
      },
      "file_extension": ".py",
      "mimetype": "text/x-python",
      "name": "python",
      "nbconvert_exporter": "python",
      "pygments_lexer": "ipython3",
      "version": "3.8.8"
    }
  },
  "cells": [
    {
      "cell_type": "markdown",
      "source": [
        "Md. Abdullah Ibna Harun\t193-15-13426\tabdullah15-13426@diu.edu.bd\n",
        "\n",
        "Mahade Hasan Forhad\t193-15-13355\tmahade15-13355@diu.edu.bd\n",
        "\n",
        "https://github.com/mdabdullahibnaharun/youtube-spam-comment-ditector"
      ],
      "metadata": {
        "id": "NjIbG8jvGOC3"
      },
      "id": "NjIbG8jvGOC3"
    },
    {
      "cell_type": "markdown",
      "source": [
        "## Import modules dataset"
      ],
      "metadata": {
        "id": "LZ8Z-KWbLHml"
      },
      "id": "LZ8Z-KWbLHml"
    },
    {
      "cell_type": "code",
      "metadata": {
        "id": "2ff3cbdd"
      },
      "source": [
        "#-------------- Youtube Spam Comment Detector--------------------#\n",
        "\n",
        "# converting words into vectors to use as fetures to help in classification\n",
        "\n",
        "#EDA packages\n",
        "import pandas as pd\n",
        "import numpy as np\n"
      ],
      "id": "2ff3cbdd",
      "execution_count": null,
      "outputs": []
    },
    {
      "cell_type": "code",
      "metadata": {
        "id": "480cd53a"
      },
      "source": [
        "# Ml packages for vectorization of text for feature extraction\n",
        "\n",
        "from sklearn.feature_extraction.text import CountVectorizer\n",
        "from sklearn.feature_extraction.text import TfidfVectorizer\n"
      ],
      "id": "480cd53a",
      "execution_count": null,
      "outputs": []
    },
    {
      "cell_type": "code",
      "metadata": {
        "id": "f79812cb"
      },
      "source": [
        "# Visualization packages\n",
        "\n",
        "import matplotlib.pyplot as plt\n",
        "import seaborn as sns\n"
      ],
      "id": "f79812cb",
      "execution_count": null,
      "outputs": []
    },
    {
      "cell_type": "code",
      "metadata": {
        "colab": {
          "resources": {
            "http://localhost:8080/nbextensions/google.colab/files.js": {
              "data": "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",
              "ok": true,
              "headers": [
                [
                  "content-type",
                  "application/javascript"
                ]
              ],
              "status": 200,
              "status_text": ""
            }
          },
          "base_uri": "https://localhost:8080/",
          "height": 300
        },
        "id": "Wm4P2qo9Iz-W",
        "outputId": "2dfd2b7b-cc4f-494f-f9fa-b148dbc39619"
      },
      "source": [
        "from google.colab import files\n",
        "\n",
        "uploaded = files.upload()\n",
        "\n",
        "for fn in uploaded.keys():\n",
        "  print('User uploaded file \"{name}\" with length {length} bytes'.format(\n",
        "      name=fn, length=len(uploaded[fn])))"
      ],
      "id": "Wm4P2qo9Iz-W",
      "execution_count": null,
      "outputs": [
        {
          "output_type": "display_data",
          "data": {
            "text/plain": [
              "<IPython.core.display.HTML object>"
            ],
            "text/html": [
              "\n",
              "     <input type=\"file\" id=\"files-e696b91d-c932-4c69-9f52-f1633ef79546\" name=\"files[]\" multiple disabled\n",
              "        style=\"border:none\" />\n",
              "     <output id=\"result-e696b91d-c932-4c69-9f52-f1633ef79546\">\n",
              "      Upload widget is only available when the cell has been executed in the\n",
              "      current browser session. Please rerun this cell to enable.\n",
              "      </output>\n",
              "      <script src=\"/nbextensions/google.colab/files.js\"></script> "
            ]
          },
          "metadata": {}
        },
        {
          "output_type": "stream",
          "name": "stdout",
          "text": [
            "Saving Youtube01-Psy.csv to Youtube01-Psy.csv\n",
            "Saving Youtube02-KatyPerry.csv to Youtube02-KatyPerry.csv\n",
            "Saving Youtube03-LMFAO.csv to Youtube03-LMFAO.csv\n",
            "Saving Youtube04-Eminem.csv to Youtube04-Eminem.csv\n",
            "Saving Youtube05-Shakira.csv to Youtube05-Shakira.csv\n",
            "User uploaded file \"Youtube01-Psy.csv\" with length 57438 bytes\n",
            "User uploaded file \"Youtube02-KatyPerry.csv\" with length 64279 bytes\n",
            "User uploaded file \"Youtube03-LMFAO.csv\" with length 64419 bytes\n",
            "User uploaded file \"Youtube04-Eminem.csv\" with length 82896 bytes\n",
            "User uploaded file \"Youtube05-Shakira.csv\" with length 72706 bytes\n"
          ]
        }
      ]
    },
    {
      "cell_type": "code",
      "metadata": {
        "colab": {
          "base_uri": "https://localhost:8080/",
          "height": 206
        },
        "id": "1d0bc1a2",
        "outputId": "7436103e-e965-4232-81f1-5fe92ecaf4a9"
      },
      "source": [
        "#Dataset from Kaggle\n",
        "df1 = pd.read_csv(\"Youtube01-Psy.csv\")\n",
        "df1.head()"
      ],
      "id": "1d0bc1a2",
      "execution_count": null,
      "outputs": [
        {
          "output_type": "execute_result",
          "data": {
            "text/plain": [
              "                                    COMMENT_ID            AUTHOR  \\\n",
              "0  LZQPQhLyRh80UYxNuaDWhIGQYNQ96IuCg-AYWqNPjpU         Julius NM   \n",
              "1  LZQPQhLyRh_C2cTtd9MvFRJedxydaVW-2sNg5Diuo4A       adam riyati   \n",
              "2  LZQPQhLyRh9MSZYnf8djyk0gEF9BHDPYrrK-qCczIY8  Evgeny Murashkin   \n",
              "3          z13jhp0bxqncu512g22wvzkasxmvvzjaz04   ElNino Melendez   \n",
              "4          z13fwbwp1oujthgqj04chlngpvzmtt3r3dw            GsMega   \n",
              "\n",
              "                  DATE                                            CONTENT  \\\n",
              "0  2013-11-07T06:20:48  Huh, anyway check out this you[tube] channel: ...   \n",
              "1  2013-11-07T12:37:15  Hey guys check out my new channel and our firs...   \n",
              "2  2013-11-08T17:34:21             just for test I have to say murdev.com   \n",
              "3  2013-11-09T08:28:43   me shaking my sexy ass on my channel enjoy ^_^ ﻿   \n",
              "4  2013-11-10T16:05:38            watch?v=vtaRGgvGtWQ   Check this out .﻿   \n",
              "\n",
              "   CLASS  \n",
              "0      1  \n",
              "1      1  \n",
              "2      1  \n",
              "3      1  \n",
              "4      1  "
            ],
            "text/html": [
              "\n",
              "  <div id=\"df-9d1f7688-ce00-4d15-afc0-6bd165bbff14\">\n",
              "    <div class=\"colab-df-container\">\n",
              "      <div>\n",
              "<style scoped>\n",
              "    .dataframe tbody tr th:only-of-type {\n",
              "        vertical-align: middle;\n",
              "    }\n",
              "\n",
              "    .dataframe tbody tr th {\n",
              "        vertical-align: top;\n",
              "    }\n",
              "\n",
              "    .dataframe thead th {\n",
              "        text-align: right;\n",
              "    }\n",
              "</style>\n",
              "<table border=\"1\" class=\"dataframe\">\n",
              "  <thead>\n",
              "    <tr style=\"text-align: right;\">\n",
              "      <th></th>\n",
              "      <th>COMMENT_ID</th>\n",
              "      <th>AUTHOR</th>\n",
              "      <th>DATE</th>\n",
              "      <th>CONTENT</th>\n",
              "      <th>CLASS</th>\n",
              "    </tr>\n",
              "  </thead>\n",
              "  <tbody>\n",
              "    <tr>\n",
              "      <th>0</th>\n",
              "      <td>LZQPQhLyRh80UYxNuaDWhIGQYNQ96IuCg-AYWqNPjpU</td>\n",
              "      <td>Julius NM</td>\n",
              "      <td>2013-11-07T06:20:48</td>\n",
              "      <td>Huh, anyway check out this you[tube] channel: ...</td>\n",
              "      <td>1</td>\n",
              "    </tr>\n",
              "    <tr>\n",
              "      <th>1</th>\n",
              "      <td>LZQPQhLyRh_C2cTtd9MvFRJedxydaVW-2sNg5Diuo4A</td>\n",
              "      <td>adam riyati</td>\n",
              "      <td>2013-11-07T12:37:15</td>\n",
              "      <td>Hey guys check out my new channel and our firs...</td>\n",
              "      <td>1</td>\n",
              "    </tr>\n",
              "    <tr>\n",
              "      <th>2</th>\n",
              "      <td>LZQPQhLyRh9MSZYnf8djyk0gEF9BHDPYrrK-qCczIY8</td>\n",
              "      <td>Evgeny Murashkin</td>\n",
              "      <td>2013-11-08T17:34:21</td>\n",
              "      <td>just for test I have to say murdev.com</td>\n",
              "      <td>1</td>\n",
              "    </tr>\n",
              "    <tr>\n",
              "      <th>3</th>\n",
              "      <td>z13jhp0bxqncu512g22wvzkasxmvvzjaz04</td>\n",
              "      <td>ElNino Melendez</td>\n",
              "      <td>2013-11-09T08:28:43</td>\n",
              "      <td>me shaking my sexy ass on my channel enjoy ^_^ ﻿</td>\n",
              "      <td>1</td>\n",
              "    </tr>\n",
              "    <tr>\n",
              "      <th>4</th>\n",
              "      <td>z13fwbwp1oujthgqj04chlngpvzmtt3r3dw</td>\n",
              "      <td>GsMega</td>\n",
              "      <td>2013-11-10T16:05:38</td>\n",
              "      <td>watch?v=vtaRGgvGtWQ   Check this out .﻿</td>\n",
              "      <td>1</td>\n",
              "    </tr>\n",
              "  </tbody>\n",
              "</table>\n",
              "</div>\n",
              "      <button class=\"colab-df-convert\" onclick=\"convertToInteractive('df-9d1f7688-ce00-4d15-afc0-6bd165bbff14')\"\n",
              "              title=\"Convert this dataframe to an interactive table.\"\n",
              "              style=\"display:none;\">\n",
              "        \n",
              "  <svg xmlns=\"http://www.w3.org/2000/svg\" height=\"24px\"viewBox=\"0 0 24 24\"\n",
              "       width=\"24px\">\n",
              "    <path d=\"M0 0h24v24H0V0z\" fill=\"none\"/>\n",
              "    <path d=\"M18.56 5.44l.94 2.06.94-2.06 2.06-.94-2.06-.94-.94-2.06-.94 2.06-2.06.94zm-11 1L8.5 8.5l.94-2.06 2.06-.94-2.06-.94L8.5 2.5l-.94 2.06-2.06.94zm10 10l.94 2.06.94-2.06 2.06-.94-2.06-.94-.94-2.06-.94 2.06-2.06.94z\"/><path d=\"M17.41 7.96l-1.37-1.37c-.4-.4-.92-.59-1.43-.59-.52 0-1.04.2-1.43.59L10.3 9.45l-7.72 7.72c-.78.78-.78 2.05 0 2.83L4 21.41c.39.39.9.59 1.41.59.51 0 1.02-.2 1.41-.59l7.78-7.78 2.81-2.81c.8-.78.8-2.07 0-2.86zM5.41 20L4 18.59l7.72-7.72 1.47 1.35L5.41 20z\"/>\n",
              "  </svg>\n",
              "      </button>\n",
              "      \n",
              "  <style>\n",
              "    .colab-df-container {\n",
              "      display:flex;\n",
              "      flex-wrap:wrap;\n",
              "      gap: 12px;\n",
              "    }\n",
              "\n",
              "    .colab-df-convert {\n",
              "      background-color: #E8F0FE;\n",
              "      border: none;\n",
              "      border-radius: 50%;\n",
              "      cursor: pointer;\n",
              "      display: none;\n",
              "      fill: #1967D2;\n",
              "      height: 32px;\n",
              "      padding: 0 0 0 0;\n",
              "      width: 32px;\n",
              "    }\n",
              "\n",
              "    .colab-df-convert:hover {\n",
              "      background-color: #E2EBFA;\n",
              "      box-shadow: 0px 1px 2px rgba(60, 64, 67, 0.3), 0px 1px 3px 1px rgba(60, 64, 67, 0.15);\n",
              "      fill: #174EA6;\n",
              "    }\n",
              "\n",
              "    [theme=dark] .colab-df-convert {\n",
              "      background-color: #3B4455;\n",
              "      fill: #D2E3FC;\n",
              "    }\n",
              "\n",
              "    [theme=dark] .colab-df-convert:hover {\n",
              "      background-color: #434B5C;\n",
              "      box-shadow: 0px 1px 3px 1px rgba(0, 0, 0, 0.15);\n",
              "      filter: drop-shadow(0px 1px 2px rgba(0, 0, 0, 0.3));\n",
              "      fill: #FFFFFF;\n",
              "    }\n",
              "  </style>\n",
              "\n",
              "      <script>\n",
              "        const buttonEl =\n",
              "          document.querySelector('#df-9d1f7688-ce00-4d15-afc0-6bd165bbff14 button.colab-df-convert');\n",
              "        buttonEl.style.display =\n",
              "          google.colab.kernel.accessAllowed ? 'block' : 'none';\n",
              "\n",
              "        async function convertToInteractive(key) {\n",
              "          const element = document.querySelector('#df-9d1f7688-ce00-4d15-afc0-6bd165bbff14');\n",
              "          const dataTable =\n",
              "            await google.colab.kernel.invokeFunction('convertToInteractive',\n",
              "                                                     [key], {});\n",
              "          if (!dataTable) return;\n",
              "\n",
              "          const docLinkHtml = 'Like what you see? Visit the ' +\n",
              "            '<a target=\"_blank\" href=https://colab.research.google.com/notebooks/data_table.ipynb>data table notebook</a>'\n",
              "            + ' to learn more about interactive tables.';\n",
              "          element.innerHTML = '';\n",
              "          dataTable['output_type'] = 'display_data';\n",
              "          await google.colab.output.renderOutput(dataTable, element);\n",
              "          const docLink = document.createElement('div');\n",
              "          docLink.innerHTML = docLinkHtml;\n",
              "          element.appendChild(docLink);\n",
              "        }\n",
              "      </script>\n",
              "    </div>\n",
              "  </div>\n",
              "  "
            ]
          },
          "metadata": {},
          "execution_count": 7
        }
      ]
    },
    {
      "cell_type": "code",
      "metadata": {
        "id": "05545739"
      },
      "source": [
        "#load all dataset to mearge them\n",
        "df2 = pd.read_csv(\"Youtube02-KatyPerry.csv\")\n",
        "df3 = pd.read_csv(\"Youtube03-LMFAO.csv\")\n",
        "df4= pd.read_csv(\"Youtube04-Eminem.csv\")\n",
        "df5= pd.read_csv(\"Youtube05-Shakira.csv\")"
      ],
      "id": "05545739",
      "execution_count": null,
      "outputs": []
    },
    {
      "cell_type": "markdown",
      "source": [
        "## Data Visualization"
      ],
      "metadata": {
        "id": "eOcP5Cw1LOR2"
      },
      "id": "eOcP5Cw1LOR2"
    },
    {
      "cell_type": "code",
      "source": [
        "data = df1['CLASS'].value_counts()\n",
        "name= data.index\n",
        "count = data.values \n",
        "\n",
        "plt.title(\"Psy\")\n",
        "plt.xlabel('Comment-Ratio')\n",
        "plt.ylabel('Total count')\n",
        "\n",
        "plt.bar(name,count)"
      ],
      "metadata": {
        "colab": {
          "base_uri": "https://localhost:8080/",
          "height": 312
        },
        "id": "A_nvobsQJ02c",
        "outputId": "6473d44d-5bc7-4af8-c819-96c4b4637605"
      },
      "id": "A_nvobsQJ02c",
      "execution_count": null,
      "outputs": [
        {
          "output_type": "execute_result",
          "data": {
            "text/plain": [
              "<BarContainer object of 2 artists>"
            ]
          },
          "metadata": {},
          "execution_count": 9
        },
        {
          "output_type": "display_data",
          "data": {
            "text/plain": [
              "<Figure size 432x288 with 1 Axes>"
            ],
            "image/png": "[encoded data removed]"
          },
          "metadata": {
            "needs_background": "light"
          }
        }
      ]
    },
    {
      "cell_type": "code",
      "source": [
        "data = df2['CLASS'].value_counts()\n",
        "name= data.index\n",
        "count = data.values \n",
        "\n",
        "plt.title(\"KatyPerry\")\n",
        "plt.xlabel('Comment-Ratio')\n",
        "plt.ylabel('Total count')\n",
        "\n",
        "plt.bar(name,count)"
      ],
      "metadata": {
        "colab": {
          "base_uri": "https://localhost:8080/",
          "height": 312
        },
        "id": "CriSPigWJ00D",
        "outputId": "5bf9c369-a2b7-476c-e24e-cf64eacc3fad"
      },
      "id": "CriSPigWJ00D",
      "execution_count": null,
      "outputs": [
        {
          "output_type": "execute_result",
          "data": {
            "text/plain": [
              "<BarContainer object of 2 artists>"
            ]
          },
          "metadata": {},
          "execution_count": 10
        },
        {
          "output_type": "display_data",
          "data": {
            "text/plain": [
              "<Figure size 432x288 with 1 Axes>"
            ],
            "image/png": "[encoded data removed]"
          },
          "metadata": {
            "needs_background": "light"
          }
        }
      ]
    },
    {
      "cell_type": "code",
      "source": [
        "data = df3['CLASS'].value_counts()\n",
        "name= data.index\n",
        "count = data.values \n",
        "\n",
        "plt.title(\"LMFAO\")\n",
        "plt.xlabel('Comment-Ratio')\n",
        "plt.ylabel('Total count')\n",
        "\n",
        "\n",
        "plt.bar(name,count)"
      ],
      "metadata": {
        "colab": {
          "base_uri": "https://localhost:8080/",
          "height": 312
        },
        "id": "q5bZzwHwJ0xU",
        "outputId": "1a3282d8-7e59-451c-f015-639e04156e1c"
      },
      "id": "q5bZzwHwJ0xU",
      "execution_count": null,
      "outputs": [
        {
          "output_type": "execute_result",
          "data": {
            "text/plain": [
              "<BarContainer object of 2 artists>"
            ]
          },
          "metadata": {},
          "execution_count": 11
        },
        {
          "output_type": "display_data",
          "data": {
            "text/plain": [
              "<Figure size 432x288 with 1 Axes>"
            ],
            "image/png": "[encoded data removed]"
          },
          "metadata": {
            "needs_background": "light"
          }
        }
      ]
    },
    {
      "cell_type": "code",
      "source": [
        "data = df4['CLASS'].value_counts()\n",
        "name= data.index\n",
        "count = data.values \n",
        "\n",
        "plt.title(\"Eminem\")\n",
        "plt.xlabel('Comment-Ratio')\n",
        "plt.ylabel('Total count')\n",
        "\n",
        "plt.bar(name,count)"
      ],
      "metadata": {
        "colab": {
          "base_uri": "https://localhost:8080/",
          "height": 312
        },
        "id": "Mf5Fxh_jJ0eg",
        "outputId": "e14f4c78-e897-42bc-ba72-639a9d0205b9"
      },
      "id": "Mf5Fxh_jJ0eg",
      "execution_count": null,
      "outputs": [
        {
          "output_type": "execute_result",
          "data": {
            "text/plain": [
              "<BarContainer object of 2 artists>"
            ]
          },
          "metadata": {},
          "execution_count": 12
        },
        {
          "output_type": "display_data",
          "data": {
            "text/plain": [
              "<Figure size 432x288 with 1 Axes>"
            ],
            "image/png": "[encoded data removed]"
          },
          "metadata": {
            "needs_background": "light"
          }
        }
      ]
    },
    {
      "cell_type": "code",
      "source": [
        "data = df5['CLASS'].value_counts()\n",
        "name= data.index\n",
        "count = data.values \n",
        "\n",
        "plt.title(\"Shakira\")\n",
        "plt.xlabel('Comment-Ratio')\n",
        "plt.ylabel('Total count')\n",
        "\n",
        "plt.bar(name,count)"
      ],
      "metadata": {
        "colab": {
          "base_uri": "https://localhost:8080/",
          "height": 312
        },
        "id": "L084zy6fKGIt",
        "outputId": "ab3be5b4-4f07-458d-88ac-929faa6b1b98"
      },
      "id": "L084zy6fKGIt",
      "execution_count": null,
      "outputs": [
        {
          "output_type": "execute_result",
          "data": {
            "text/plain": [
              "<BarContainer object of 2 artists>"
            ]
          },
          "metadata": {},
          "execution_count": 13
        },
        {
          "output_type": "display_data",
          "data": {
            "text/plain": [
              "<Figure size 432x288 with 1 Axes>"
            ],
            "image/png": "[encoded data removed]"
          },
          "metadata": {
            "needs_background": "light"
          }
        }
      ]
    },
    {
      "cell_type": "code",
      "source": [
        "value1=df5['CLASS'].value_counts()\n",
        "value2=df5['CLASS'].value_counts()\n",
        "value3=df5['CLASS'].value_counts()\n",
        "value4=df5['CLASS'].value_counts()\n",
        "value5=df5['CLASS'].value_counts()\n",
        "box_plot_data = [value1, value2, value3, value4, value5]\n",
        "\n",
        "plt.boxplot(box_plot_data,patch_artist=True,labels = ['Psy' , 'KatyPerry','LMFAO','Eminem','Shakira'])\n",
        "plt.show()"
      ],
      "metadata": {
        "colab": {
          "base_uri": "https://localhost:8080/",
          "height": 265
        },
        "id": "XNOfxV6FKRc1",
        "outputId": "ac4e82df-c476-40d7-b28f-3649c64d863e"
      },
      "id": "XNOfxV6FKRc1",
      "execution_count": null,
      "outputs": [
        {
          "output_type": "display_data",
          "data": {
            "text/plain": [
              "<Figure size 432x288 with 1 Axes>"
            ],
            "image/png": "[encoded data removed]"
          },
          "metadata": {
            "needs_background": "light"
          }
        }
      ]
    },
    {
      "cell_type": "markdown",
      "source": [
        "## Preprocessing"
      ],
      "metadata": {
        "id": "W1UHAosLLUEr"
      },
      "id": "W1UHAosLLUEr"
    },
    {
      "cell_type": "code",
      "metadata": {
        "id": "d838af37"
      },
      "source": [
        "frames = [df1,df2,df3,df4,df5]"
      ],
      "id": "d838af37",
      "execution_count": null,
      "outputs": []
    },
    {
      "cell_type": "code",
      "metadata": {
        "id": "9014a4f6"
      },
      "source": [
        "df_mearged = pd.concat(frames)"
      ],
      "id": "9014a4f6",
      "execution_count": null,
      "outputs": []
    },
    {
      "cell_type": "code",
      "metadata": {
        "colab": {
          "base_uri": "https://localhost:8080/",
          "height": 423
        },
        "id": "1ad0a216",
        "outputId": "65a70f78-6686-4e82-d485-6b931f2628d4"
      },
      "source": [
        "df_mearged"
      ],
      "id": "1ad0a216",
      "execution_count": null,
      "outputs": [
        {
          "output_type": "execute_result",
          "data": {
            "text/plain": [
              "                                      COMMENT_ID                AUTHOR  \\\n",
              "0    LZQPQhLyRh80UYxNuaDWhIGQYNQ96IuCg-AYWqNPjpU             Julius NM   \n",
              "1    LZQPQhLyRh_C2cTtd9MvFRJedxydaVW-2sNg5Diuo4A           adam riyati   \n",
              "2    LZQPQhLyRh9MSZYnf8djyk0gEF9BHDPYrrK-qCczIY8      Evgeny Murashkin   \n",
              "3            z13jhp0bxqncu512g22wvzkasxmvvzjaz04       ElNino Melendez   \n",
              "4            z13fwbwp1oujthgqj04chlngpvzmtt3r3dw                GsMega   \n",
              "..                                           ...                   ...   \n",
              "365  _2viQ_Qnc6-bMSjqyL1NKj57ROicCSJV5SwTrw-RFFA          Katie Mettam   \n",
              "366  _2viQ_Qnc6-pY-1yR6K2FhmC5i48-WuNx5CumlHLDAI  Sabina Pearson-Smith   \n",
              "367  _2viQ_Qnc6_k_n_Bse9zVhJP8tJReZpo8uM2uZfnzDs         jeffrey jules   \n",
              "368  _2viQ_Qnc6_yBt8UGMWyg3vh0PulTqcqyQtdE7d4Fl0        Aishlin Maciel   \n",
              "369  _2viQ_Qnc685RPw1aSa1tfrIuHXRvAQ2rPT9R06KTqA           Latin Bosch   \n",
              "\n",
              "                           DATE  \\\n",
              "0           2013-11-07T06:20:48   \n",
              "1           2013-11-07T12:37:15   \n",
              "2           2013-11-08T17:34:21   \n",
              "3           2013-11-09T08:28:43   \n",
              "4           2013-11-10T16:05:38   \n",
              "..                          ...   \n",
              "365  2013-07-13T13:27:39.441000   \n",
              "366  2013-07-13T13:14:30.021000   \n",
              "367  2013-07-13T12:09:31.188000   \n",
              "368  2013-07-13T11:17:52.308000   \n",
              "369  2013-07-12T22:33:27.916000   \n",
              "\n",
              "                                               CONTENT  CLASS  \n",
              "0    Huh, anyway check out this you[tube] channel: ...      1  \n",
              "1    Hey guys check out my new channel and our firs...      1  \n",
              "2               just for test I have to say murdev.com      1  \n",
              "3     me shaking my sexy ass on my channel enjoy ^_^ ﻿      1  \n",
              "4              watch?v=vtaRGgvGtWQ   Check this out .﻿      1  \n",
              "..                                                 ...    ...  \n",
              "365  I love this song because we sing it at Camp al...      0  \n",
              "366  I love this song for two reasons: 1.it is abou...      0  \n",
              "367                                                wow      0  \n",
              "368                            Shakira u are so wiredo      0  \n",
              "369                         Shakira is the best dancer      0  \n",
              "\n",
              "[1956 rows x 5 columns]"
            ],
            "text/html": [
              "\n",
              "  <div id=\"df-67aedb6a-5ba8-4ccc-8bf0-1a5bf5963c1b\">\n",
              "    <div class=\"colab-df-container\">\n",
              "      <div>\n",
              "<style scoped>\n",
              "    .dataframe tbody tr th:only-of-type {\n",
              "        vertical-align: middle;\n",
              "    }\n",
              "\n",
              "    .dataframe tbody tr th {\n",
              "        vertical-align: top;\n",
              "    }\n",
              "\n",
              "    .dataframe thead th {\n",
              "        text-align: right;\n",
              "    }\n",
              "</style>\n",
              "<table border=\"1\" class=\"dataframe\">\n",
              "  <thead>\n",
              "    <tr style=\"text-align: right;\">\n",
              "      <th></th>\n",
              "      <th>COMMENT_ID</th>\n",
              "      <th>AUTHOR</th>\n",
              "      <th>DATE</th>\n",
              "      <th>CONTENT</th>\n",
              "      <th>CLASS</th>\n",
              "    </tr>\n",
              "  </thead>\n",
              "  <tbody>\n",
              "    <tr>\n",
              "      <th>0</th>\n",
              "      <td>LZQPQhLyRh80UYxNuaDWhIGQYNQ96IuCg-AYWqNPjpU</td>\n",
              "      <td>Julius NM</td>\n",
              "      <td>2013-11-07T06:20:48</td>\n",
              "      <td>Huh, anyway check out this you[tube] channel: ...</td>\n",
              "      <td>1</td>\n",
              "    </tr>\n",
              "    <tr>\n",
              "      <th>1</th>\n",
              "      <td>LZQPQhLyRh_C2cTtd9MvFRJedxydaVW-2sNg5Diuo4A</td>\n",
              "      <td>adam riyati</td>\n",
              "      <td>2013-11-07T12:37:15</td>\n",
              "      <td>Hey guys check out my new channel and our firs...</td>\n",
              "      <td>1</td>\n",
              "    </tr>\n",
              "    <tr>\n",
              "      <th>2</th>\n",
              "      <td>LZQPQhLyRh9MSZYnf8djyk0gEF9BHDPYrrK-qCczIY8</td>\n",
              "      <td>Evgeny Murashkin</td>\n",
              "      <td>2013-11-08T17:34:21</td>\n",
              "      <td>just for test I have to say murdev.com</td>\n",
              "      <td>1</td>\n",
              "    </tr>\n",
              "    <tr>\n",
              "      <th>3</th>\n",
              "      <td>z13jhp0bxqncu512g22wvzkasxmvvzjaz04</td>\n",
              "      <td>ElNino Melendez</td>\n",
              "      <td>2013-11-09T08:28:43</td>\n",
              "      <td>me shaking my sexy ass on my channel enjoy ^_^ ﻿</td>\n",
              "      <td>1</td>\n",
              "    </tr>\n",
              "    <tr>\n",
              "      <th>4</th>\n",
              "      <td>z13fwbwp1oujthgqj04chlngpvzmtt3r3dw</td>\n",
              "      <td>GsMega</td>\n",
              "      <td>2013-11-10T16:05:38</td>\n",
              "      <td>watch?v=vtaRGgvGtWQ   Check this out .﻿</td>\n",
              "      <td>1</td>\n",
              "    </tr>\n",
              "    <tr>\n",
              "      <th>...</th>\n",
              "      <td>...</td>\n",
              "      <td>...</td>\n",
              "      <td>...</td>\n",
              "      <td>...</td>\n",
              "      <td>...</td>\n",
              "    </tr>\n",
              "    <tr>\n",
              "      <th>365</th>\n",
              "      <td>_2viQ_Qnc6-bMSjqyL1NKj57ROicCSJV5SwTrw-RFFA</td>\n",
              "      <td>Katie Mettam</td>\n",
              "      <td>2013-07-13T13:27:39.441000</td>\n",
              "      <td>I love this song because we sing it at Camp al...</td>\n",
              "      <td>0</td>\n",
              "    </tr>\n",
              "    <tr>\n",
              "      <th>366</th>\n",
              "      <td>_2viQ_Qnc6-pY-1yR6K2FhmC5i48-WuNx5CumlHLDAI</td>\n",
              "      <td>Sabina Pearson-Smith</td>\n",
              "      <td>2013-07-13T13:14:30.021000</td>\n",
              "      <td>I love this song for two reasons: 1.it is abou...</td>\n",
              "      <td>0</td>\n",
              "    </tr>\n",
              "    <tr>\n",
              "      <th>367</th>\n",
              "      <td>_2viQ_Qnc6_k_n_Bse9zVhJP8tJReZpo8uM2uZfnzDs</td>\n",
              "      <td>jeffrey jules</td>\n",
              "      <td>2013-07-13T12:09:31.188000</td>\n",
              "      <td>wow</td>\n",
              "      <td>0</td>\n",
              "    </tr>\n",
              "    <tr>\n",
              "      <th>368</th>\n",
              "      <td>_2viQ_Qnc6_yBt8UGMWyg3vh0PulTqcqyQtdE7d4Fl0</td>\n",
              "      <td>Aishlin Maciel</td>\n",
              "      <td>2013-07-13T11:17:52.308000</td>\n",
              "      <td>Shakira u are so wiredo</td>\n",
              "      <td>0</td>\n",
              "    </tr>\n",
              "    <tr>\n",
              "      <th>369</th>\n",
              "      <td>_2viQ_Qnc685RPw1aSa1tfrIuHXRvAQ2rPT9R06KTqA</td>\n",
              "      <td>Latin Bosch</td>\n",
              "      <td>2013-07-12T22:33:27.916000</td>\n",
              "      <td>Shakira is the best dancer</td>\n",
              "      <td>0</td>\n",
              "    </tr>\n",
              "  </tbody>\n",
              "</table>\n",
              "<p>1956 rows × 5 columns</p>\n",
              "</div>\n",
              "      <button class=\"colab-df-convert\" onclick=\"convertToInteractive('df-67aedb6a-5ba8-4ccc-8bf0-1a5bf5963c1b')\"\n",
              "              title=\"Convert this dataframe to an interactive table.\"\n",
              "              style=\"display:none;\">\n",
              "        \n",
              "  <svg xmlns=\"http://www.w3.org/2000/svg\" height=\"24px\"viewBox=\"0 0 24 24\"\n",
              "       width=\"24px\">\n",
              "    <path d=\"M0 0h24v24H0V0z\" fill=\"none\"/>\n",
              "    <path d=\"M18.56 5.44l.94 2.06.94-2.06 2.06-.94-2.06-.94-.94-2.06-.94 2.06-2.06.94zm-11 1L8.5 8.5l.94-2.06 2.06-.94-2.06-.94L8.5 2.5l-.94 2.06-2.06.94zm10 10l.94 2.06.94-2.06 2.06-.94-2.06-.94-.94-2.06-.94 2.06-2.06.94z\"/><path d=\"M17.41 7.96l-1.37-1.37c-.4-.4-.92-.59-1.43-.59-.52 0-1.04.2-1.43.59L10.3 9.45l-7.72 7.72c-.78.78-.78 2.05 0 2.83L4 21.41c.39.39.9.59 1.41.59.51 0 1.02-.2 1.41-.59l7.78-7.78 2.81-2.81c.8-.78.8-2.07 0-2.86zM5.41 20L4 18.59l7.72-7.72 1.47 1.35L5.41 20z\"/>\n",
              "  </svg>\n",
              "      </button>\n",
              "      \n",
              "  <style>\n",
              "    .colab-df-container {\n",
              "      display:flex;\n",
              "      flex-wrap:wrap;\n",
              "      gap: 12px;\n",
              "    }\n",
              "\n",
              "    .colab-df-convert {\n",
              "      background-color: #E8F0FE;\n",
              "      border: none;\n",
              "      border-radius: 50%;\n",
              "      cursor: pointer;\n",
              "      display: none;\n",
              "      fill: #1967D2;\n",
              "      height: 32px;\n",
              "      padding: 0 0 0 0;\n",
              "      width: 32px;\n",
              "    }\n",
              "\n",
              "    .colab-df-convert:hover {\n",
              "      background-color: #E2EBFA;\n",
              "      box-shadow: 0px 1px 2px rgba(60, 64, 67, 0.3), 0px 1px 3px 1px rgba(60, 64, 67, 0.15);\n",
              "      fill: #174EA6;\n",
              "    }\n",
              "\n",
              "    [theme=dark] .colab-df-convert {\n",
              "      background-color: #3B4455;\n",
              "      fill: #D2E3FC;\n",
              "    }\n",
              "\n",
              "    [theme=dark] .colab-df-convert:hover {\n",
              "      background-color: #434B5C;\n",
              "      box-shadow: 0px 1px 3px 1px rgba(0, 0, 0, 0.15);\n",
              "      filter: drop-shadow(0px 1px 2px rgba(0, 0, 0, 0.3));\n",
              "      fill: #FFFFFF;\n",
              "    }\n",
              "  </style>\n",
              "\n",
              "      <script>\n",
              "        const buttonEl =\n",
              "          document.querySelector('#df-67aedb6a-5ba8-4ccc-8bf0-1a5bf5963c1b button.colab-df-convert');\n",
              "        buttonEl.style.display =\n",
              "          google.colab.kernel.accessAllowed ? 'block' : 'none';\n",
              "\n",
              "        async function convertToInteractive(key) {\n",
              "          const element = document.querySelector('#df-67aedb6a-5ba8-4ccc-8bf0-1a5bf5963c1b');\n",
              "          const dataTable =\n",
              "            await google.colab.kernel.invokeFunction('convertToInteractive',\n",
              "                                                     [key], {});\n",
              "          if (!dataTable) return;\n",
              "\n",
              "          const docLinkHtml = 'Like what you see? Visit the ' +\n",
              "            '<a target=\"_blank\" href=https://colab.research.google.com/notebooks/data_table.ipynb>data table notebook</a>'\n",
              "            + ' to learn more about interactive tables.';\n",
              "          element.innerHTML = '';\n",
              "          dataTable['output_type'] = 'display_data';\n",
              "          await google.colab.output.renderOutput(dataTable, element);\n",
              "          const docLink = document.createElement('div');\n",
              "          docLink.innerHTML = docLinkHtml;\n",
              "          element.appendChild(docLink);\n",
              "        }\n",
              "      </script>\n",
              "    </div>\n",
              "  </div>\n",
              "  "
            ]
          },
          "metadata": {},
          "execution_count": 17
        }
      ]
    },
    {
      "cell_type": "code",
      "metadata": {
        "colab": {
          "base_uri": "https://localhost:8080/"
        },
        "id": "20ce3ae8",
        "outputId": "e092c1ad-3ea1-4ebb-a341-74d650eaf5ac"
      },
      "source": [
        "# total size\n",
        "df_mearged.shape"
      ],
      "id": "20ce3ae8",
      "execution_count": null,
      "outputs": [
        {
          "output_type": "execute_result",
          "data": {
            "text/plain": [
              "(1956, 5)"
            ]
          },
          "metadata": {},
          "execution_count": 18
        }
      ]
    },
    {
      "cell_type": "code",
      "metadata": {
        "colab": {
          "base_uri": "https://localhost:8080/",
          "height": 423
        },
        "id": "c249a19a",
        "outputId": "8ec0abe2-e8f7-4e8d-f9cd-08dfbb8dbb2b"
      },
      "source": [
        "# mearging with keys\n",
        "keys = [\"Psy\",\"KatyPerry\",\"LMFAO\",\"Eminem\",\"Shakira\"]\n",
        "df_with_keys = pd.concat(frames,keys = keys)\n",
        "df_with_keys"
      ],
      "id": "c249a19a",
      "execution_count": null,
      "outputs": [
        {
          "output_type": "execute_result",
          "data": {
            "text/plain": [
              "                                              COMMENT_ID  \\\n",
              "Psy     0    LZQPQhLyRh80UYxNuaDWhIGQYNQ96IuCg-AYWqNPjpU   \n",
              "        1    LZQPQhLyRh_C2cTtd9MvFRJedxydaVW-2sNg5Diuo4A   \n",
              "        2    LZQPQhLyRh9MSZYnf8djyk0gEF9BHDPYrrK-qCczIY8   \n",
              "        3            z13jhp0bxqncu512g22wvzkasxmvvzjaz04   \n",
              "        4            z13fwbwp1oujthgqj04chlngpvzmtt3r3dw   \n",
              "...                                                  ...   \n",
              "Shakira 365  _2viQ_Qnc6-bMSjqyL1NKj57ROicCSJV5SwTrw-RFFA   \n",
              "        366  _2viQ_Qnc6-pY-1yR6K2FhmC5i48-WuNx5CumlHLDAI   \n",
              "        367  _2viQ_Qnc6_k_n_Bse9zVhJP8tJReZpo8uM2uZfnzDs   \n",
              "        368  _2viQ_Qnc6_yBt8UGMWyg3vh0PulTqcqyQtdE7d4Fl0   \n",
              "        369  _2viQ_Qnc685RPw1aSa1tfrIuHXRvAQ2rPT9R06KTqA   \n",
              "\n",
              "                           AUTHOR                        DATE  \\\n",
              "Psy     0               Julius NM         2013-11-07T06:20:48   \n",
              "        1             adam riyati         2013-11-07T12:37:15   \n",
              "        2        Evgeny Murashkin         2013-11-08T17:34:21   \n",
              "        3         ElNino Melendez         2013-11-09T08:28:43   \n",
              "        4                  GsMega         2013-11-10T16:05:38   \n",
              "...                           ...                         ...   \n",
              "Shakira 365          Katie Mettam  2013-07-13T13:27:39.441000   \n",
              "        366  Sabina Pearson-Smith  2013-07-13T13:14:30.021000   \n",
              "        367         jeffrey jules  2013-07-13T12:09:31.188000   \n",
              "        368        Aishlin Maciel  2013-07-13T11:17:52.308000   \n",
              "        369           Latin Bosch  2013-07-12T22:33:27.916000   \n",
              "\n",
              "                                                       CONTENT  CLASS  \n",
              "Psy     0    Huh, anyway check out this you[tube] channel: ...      1  \n",
              "        1    Hey guys check out my new channel and our firs...      1  \n",
              "        2               just for test I have to say murdev.com      1  \n",
              "        3     me shaking my sexy ass on my channel enjoy ^_^ ﻿      1  \n",
              "        4              watch?v=vtaRGgvGtWQ   Check this out .﻿      1  \n",
              "...                                                        ...    ...  \n",
              "Shakira 365  I love this song because we sing it at Camp al...      0  \n",
              "        366  I love this song for two reasons: 1.it is abou...      0  \n",
              "        367                                                wow      0  \n",
              "        368                            Shakira u are so wiredo      0  \n",
              "        369                         Shakira is the best dancer      0  \n",
              "\n",
              "[1956 rows x 5 columns]"
            ],
            "text/html": [
              "\n",
              "  <div id=\"df-d5dbbfdf-dc1e-43d6-ac1d-9deb48a06dfd\">\n",
              "    <div class=\"colab-df-container\">\n",
              "      <div>\n",
              "<style scoped>\n",
              "    .dataframe tbody tr th:only-of-type {\n",
              "        vertical-align: middle;\n",
              "    }\n",
              "\n",
              "    .dataframe tbody tr th {\n",
              "        vertical-align: top;\n",
              "    }\n",
              "\n",
              "    .dataframe thead th {\n",
              "        text-align: right;\n",
              "    }\n",
              "</style>\n",
              "<table border=\"1\" class=\"dataframe\">\n",
              "  <thead>\n",
              "    <tr style=\"text-align: right;\">\n",
              "      <th></th>\n",
              "      <th></th>\n",
              "      <th>COMMENT_ID</th>\n",
              "      <th>AUTHOR</th>\n",
              "      <th>DATE</th>\n",
              "      <th>CONTENT</th>\n",
              "      <th>CLASS</th>\n",
              "    </tr>\n",
              "  </thead>\n",
              "  <tbody>\n",
              "    <tr>\n",
              "      <th rowspan=\"5\" valign=\"top\">Psy</th>\n",
              "      <th>0</th>\n",
              "      <td>LZQPQhLyRh80UYxNuaDWhIGQYNQ96IuCg-AYWqNPjpU</td>\n",
              "      <td>Julius NM</td>\n",
              "      <td>2013-11-07T06:20:48</td>\n",
              "      <td>Huh, anyway check out this you[tube] channel: ...</td>\n",
              "      <td>1</td>\n",
              "    </tr>\n",
              "    <tr>\n",
              "      <th>1</th>\n",
              "      <td>LZQPQhLyRh_C2cTtd9MvFRJedxydaVW-2sNg5Diuo4A</td>\n",
              "      <td>adam riyati</td>\n",
              "      <td>2013-11-07T12:37:15</td>\n",
              "      <td>Hey guys check out my new channel and our firs...</td>\n",
              "      <td>1</td>\n",
              "    </tr>\n",
              "    <tr>\n",
              "      <th>2</th>\n",
              "      <td>LZQPQhLyRh9MSZYnf8djyk0gEF9BHDPYrrK-qCczIY8</td>\n",
              "      <td>Evgeny Murashkin</td>\n",
              "      <td>2013-11-08T17:34:21</td>\n",
              "      <td>just for test I have to say murdev.com</td>\n",
              "      <td>1</td>\n",
              "    </tr>\n",
              "    <tr>\n",
              "      <th>3</th>\n",
              "      <td>z13jhp0bxqncu512g22wvzkasxmvvzjaz04</td>\n",
              "      <td>ElNino Melendez</td>\n",
              "      <td>2013-11-09T08:28:43</td>\n",
              "      <td>me shaking my sexy ass on my channel enjoy ^_^ ﻿</td>\n",
              "      <td>1</td>\n",
              "    </tr>\n",
              "    <tr>\n",
              "      <th>4</th>\n",
              "      <td>z13fwbwp1oujthgqj04chlngpvzmtt3r3dw</td>\n",
              "      <td>GsMega</td>\n",
              "      <td>2013-11-10T16:05:38</td>\n",
              "      <td>watch?v=vtaRGgvGtWQ   Check this out .﻿</td>\n",
              "      <td>1</td>\n",
              "    </tr>\n",
              "    <tr>\n",
              "      <th>...</th>\n",
              "      <th>...</th>\n",
              "      <td>...</td>\n",
              "      <td>...</td>\n",
              "      <td>...</td>\n",
              "      <td>...</td>\n",
              "      <td>...</td>\n",
              "    </tr>\n",
              "    <tr>\n",
              "      <th rowspan=\"5\" valign=\"top\">Shakira</th>\n",
              "      <th>365</th>\n",
              "      <td>_2viQ_Qnc6-bMSjqyL1NKj57ROicCSJV5SwTrw-RFFA</td>\n",
              "      <td>Katie Mettam</td>\n",
              "      <td>2013-07-13T13:27:39.441000</td>\n",
              "      <td>I love this song because we sing it at Camp al...</td>\n",
              "      <td>0</td>\n",
              "    </tr>\n",
              "    <tr>\n",
              "      <th>366</th>\n",
              "      <td>_2viQ_Qnc6-pY-1yR6K2FhmC5i48-WuNx5CumlHLDAI</td>\n",
              "      <td>Sabina Pearson-Smith</td>\n",
              "      <td>2013-07-13T13:14:30.021000</td>\n",
              "      <td>I love this song for two reasons: 1.it is abou...</td>\n",
              "      <td>0</td>\n",
              "    </tr>\n",
              "    <tr>\n",
              "      <th>367</th>\n",
              "      <td>_2viQ_Qnc6_k_n_Bse9zVhJP8tJReZpo8uM2uZfnzDs</td>\n",
              "      <td>jeffrey jules</td>\n",
              "      <td>2013-07-13T12:09:31.188000</td>\n",
              "      <td>wow</td>\n",
              "      <td>0</td>\n",
              "    </tr>\n",
              "    <tr>\n",
              "      <th>368</th>\n",
              "      <td>_2viQ_Qnc6_yBt8UGMWyg3vh0PulTqcqyQtdE7d4Fl0</td>\n",
              "      <td>Aishlin Maciel</td>\n",
              "      <td>2013-07-13T11:17:52.308000</td>\n",
              "      <td>Shakira u are so wiredo</td>\n",
              "      <td>0</td>\n",
              "    </tr>\n",
              "    <tr>\n",
              "      <th>369</th>\n",
              "      <td>_2viQ_Qnc685RPw1aSa1tfrIuHXRvAQ2rPT9R06KTqA</td>\n",
              "      <td>Latin Bosch</td>\n",
              "      <td>2013-07-12T22:33:27.916000</td>\n",
              "      <td>Shakira is the best dancer</td>\n",
              "      <td>0</td>\n",
              "    </tr>\n",
              "  </tbody>\n",
              "</table>\n",
              "<p>1956 rows × 5 columns</p>\n",
              "</div>\n",
              "      <button class=\"colab-df-convert\" onclick=\"convertToInteractive('df-d5dbbfdf-dc1e-43d6-ac1d-9deb48a06dfd')\"\n",
              "              title=\"Convert this dataframe to an interactive table.\"\n",
              "              style=\"display:none;\">\n",
              "        \n",
              "  <svg xmlns=\"http://www.w3.org/2000/svg\" height=\"24px\"viewBox=\"0 0 24 24\"\n",
              "       width=\"24px\">\n",
              "    <path d=\"M0 0h24v24H0V0z\" fill=\"none\"/>\n",
              "    <path d=\"M18.56 5.44l.94 2.06.94-2.06 2.06-.94-2.06-.94-.94-2.06-.94 2.06-2.06.94zm-11 1L8.5 8.5l.94-2.06 2.06-.94-2.06-.94L8.5 2.5l-.94 2.06-2.06.94zm10 10l.94 2.06.94-2.06 2.06-.94-2.06-.94-.94-2.06-.94 2.06-2.06.94z\"/><path d=\"M17.41 7.96l-1.37-1.37c-.4-.4-.92-.59-1.43-.59-.52 0-1.04.2-1.43.59L10.3 9.45l-7.72 7.72c-.78.78-.78 2.05 0 2.83L4 21.41c.39.39.9.59 1.41.59.51 0 1.02-.2 1.41-.59l7.78-7.78 2.81-2.81c.8-.78.8-2.07 0-2.86zM5.41 20L4 18.59l7.72-7.72 1.47 1.35L5.41 20z\"/>\n",
              "  </svg>\n",
              "      </button>\n",
              "      \n",
              "  <style>\n",
              "    .colab-df-container {\n",
              "      display:flex;\n",
              "      flex-wrap:wrap;\n",
              "      gap: 12px;\n",
              "    }\n",
              "\n",
              "    .colab-df-convert {\n",
              "      background-color: #E8F0FE;\n",
              "      border: none;\n",
              "      border-radius: 50%;\n",
              "      cursor: pointer;\n",
              "      display: none;\n",
              "      fill: #1967D2;\n",
              "      height: 32px;\n",
              "      padding: 0 0 0 0;\n",
              "      width: 32px;\n",
              "    }\n",
              "\n",
              "    .colab-df-convert:hover {\n",
              "      background-color: #E2EBFA;\n",
              "      box-shadow: 0px 1px 2px rgba(60, 64, 67, 0.3), 0px 1px 3px 1px rgba(60, 64, 67, 0.15);\n",
              "      fill: #174EA6;\n",
              "    }\n",
              "\n",
              "    [theme=dark] .colab-df-convert {\n",
              "      background-color: #3B4455;\n",
              "      fill: #D2E3FC;\n",
              "    }\n",
              "\n",
              "    [theme=dark] .colab-df-convert:hover {\n",
              "      background-color: #434B5C;\n",
              "      box-shadow: 0px 1px 3px 1px rgba(0, 0, 0, 0.15);\n",
              "      filter: drop-shadow(0px 1px 2px rgba(0, 0, 0, 0.3));\n",
              "      fill: #FFFFFF;\n",
              "    }\n",
              "  </style>\n",
              "\n",
              "      <script>\n",
              "        const buttonEl =\n",
              "          document.querySelector('#df-d5dbbfdf-dc1e-43d6-ac1d-9deb48a06dfd button.colab-df-convert');\n",
              "        buttonEl.style.display =\n",
              "          google.colab.kernel.accessAllowed ? 'block' : 'none';\n",
              "\n",
              "        async function convertToInteractive(key) {\n",
              "          const element = document.querySelector('#df-d5dbbfdf-dc1e-43d6-ac1d-9deb48a06dfd');\n",
              "          const dataTable =\n",
              "            await google.colab.kernel.invokeFunction('convertToInteractive',\n",
              "                                                     [key], {});\n",
              "          if (!dataTable) return;\n",
              "\n",
              "          const docLinkHtml = 'Like what you see? Visit the ' +\n",
              "            '<a target=\"_blank\" href=https://colab.research.google.com/notebooks/data_table.ipynb>data table notebook</a>'\n",
              "            + ' to learn more about interactive tables.';\n",
              "          element.innerHTML = '';\n",
              "          dataTable['output_type'] = 'display_data';\n",
              "          await google.colab.output.renderOutput(dataTable, element);\n",
              "          const docLink = document.createElement('div');\n",
              "          docLink.innerHTML = docLinkHtml;\n",
              "          element.appendChild(docLink);\n",
              "        }\n",
              "      </script>\n",
              "    </div>\n",
              "  </div>\n",
              "  "
            ]
          },
          "metadata": {},
          "execution_count": 19
        }
      ]
    },
    {
      "cell_type": "code",
      "metadata": {
        "colab": {
          "base_uri": "https://localhost:8080/",
          "height": 423
        },
        "id": "8dbf414f",
        "outputId": "0becc587-4014-4592-f277-e5afb1156881"
      },
      "source": [
        "# checking for only comments on psy\n",
        "df_with_keys.loc[\"Psy\"]"
      ],
      "id": "8dbf414f",
      "execution_count": null,
      "outputs": [
        {
          "output_type": "execute_result",
          "data": {
            "text/plain": [
              "                                      COMMENT_ID  \\\n",
              "0    LZQPQhLyRh80UYxNuaDWhIGQYNQ96IuCg-AYWqNPjpU   \n",
              "1    LZQPQhLyRh_C2cTtd9MvFRJedxydaVW-2sNg5Diuo4A   \n",
              "2    LZQPQhLyRh9MSZYnf8djyk0gEF9BHDPYrrK-qCczIY8   \n",
              "3            z13jhp0bxqncu512g22wvzkasxmvvzjaz04   \n",
              "4            z13fwbwp1oujthgqj04chlngpvzmtt3r3dw   \n",
              "..                                           ...   \n",
              "345            z13th1q4yzihf1bll23qxzpjeujterydj   \n",
              "346        z13fcn1wfpb5e51xe04chdxakpzgchyaxzo0k   \n",
              "347          z130zd5b3titudkoe04ccbeohojxuzppvbg   \n",
              "348          z12he50arvrkivl5u04cctawgxzkjfsjcc4   \n",
              "349        z13vhvu54u3ewpp5h04ccb4zuoardrmjlyk0k   \n",
              "\n",
              "                                   AUTHOR                 DATE  \\\n",
              "0                               Julius NM  2013-11-07T06:20:48   \n",
              "1                             adam riyati  2013-11-07T12:37:15   \n",
              "2                        Evgeny Murashkin  2013-11-08T17:34:21   \n",
              "3                         ElNino Melendez  2013-11-09T08:28:43   \n",
              "4                                  GsMega  2013-11-10T16:05:38   \n",
              "..                                    ...                  ...   \n",
              "345                       Carmen Racasanu  2014-11-14T13:27:52   \n",
              "346                       diego mogrovejo  2014-11-14T13:28:08   \n",
              "347  BlueYetiPlayz -Call Of Duty and More  2015-05-23T13:04:32   \n",
              "348                          Photo Editor  2015-06-05T14:14:48   \n",
              "349                            Ray Benich  2015-06-05T18:05:16   \n",
              "\n",
              "                                               CONTENT  CLASS  \n",
              "0    Huh, anyway check out this you[tube] channel: ...      1  \n",
              "1    Hey guys check out my new channel and our firs...      1  \n",
              "2               just for test I have to say murdev.com      1  \n",
              "3     me shaking my sexy ass on my channel enjoy ^_^ ﻿      1  \n",
              "4              watch?v=vtaRGgvGtWQ   Check this out .﻿      1  \n",
              "..                                                 ...    ...  \n",
              "345  How can this have 2 billion views when there's...      0  \n",
              "346         I don't now why I'm watching this in 2014﻿      0  \n",
              "347  subscribe to me for call of duty vids and give...      1  \n",
              "348  hi guys please my android photo editor downloa...      1  \n",
              "349  The first billion viewed this because they tho...      0  \n",
              "\n",
              "[350 rows x 5 columns]"
            ],
            "text/html": [
              "\n",
              "  <div id=\"df-aad7d03e-3e34-49c0-9813-4bee633e4334\">\n",
              "    <div class=\"colab-df-container\">\n",
              "      <div>\n",
              "<style scoped>\n",
              "    .dataframe tbody tr th:only-of-type {\n",
              "        vertical-align: middle;\n",
              "    }\n",
              "\n",
              "    .dataframe tbody tr th {\n",
              "        vertical-align: top;\n",
              "    }\n",
              "\n",
              "    .dataframe thead th {\n",
              "        text-align: right;\n",
              "    }\n",
              "</style>\n",
              "<table border=\"1\" class=\"dataframe\">\n",
              "  <thead>\n",
              "    <tr style=\"text-align: right;\">\n",
              "      <th></th>\n",
              "      <th>COMMENT_ID</th>\n",
              "      <th>AUTHOR</th>\n",
              "      <th>DATE</th>\n",
              "      <th>CONTENT</th>\n",
              "      <th>CLASS</th>\n",
              "    </tr>\n",
              "  </thead>\n",
              "  <tbody>\n",
              "    <tr>\n",
              "      <th>0</th>\n",
              "      <td>LZQPQhLyRh80UYxNuaDWhIGQYNQ96IuCg-AYWqNPjpU</td>\n",
              "      <td>Julius NM</td>\n",
              "      <td>2013-11-07T06:20:48</td>\n",
              "      <td>Huh, anyway check out this you[tube] channel: ...</td>\n",
              "      <td>1</td>\n",
              "    </tr>\n",
              "    <tr>\n",
              "      <th>1</th>\n",
              "      <td>LZQPQhLyRh_C2cTtd9MvFRJedxydaVW-2sNg5Diuo4A</td>\n",
              "      <td>adam riyati</td>\n",
              "      <td>2013-11-07T12:37:15</td>\n",
              "      <td>Hey guys check out my new channel and our firs...</td>\n",
              "      <td>1</td>\n",
              "    </tr>\n",
              "    <tr>\n",
              "      <th>2</th>\n",
              "      <td>LZQPQhLyRh9MSZYnf8djyk0gEF9BHDPYrrK-qCczIY8</td>\n",
              "      <td>Evgeny Murashkin</td>\n",
              "      <td>2013-11-08T17:34:21</td>\n",
              "      <td>just for test I have to say murdev.com</td>\n",
              "      <td>1</td>\n",
              "    </tr>\n",
              "    <tr>\n",
              "      <th>3</th>\n",
              "      <td>z13jhp0bxqncu512g22wvzkasxmvvzjaz04</td>\n",
              "      <td>ElNino Melendez</td>\n",
              "      <td>2013-11-09T08:28:43</td>\n",
              "      <td>me shaking my sexy ass on my channel enjoy ^_^ ﻿</td>\n",
              "      <td>1</td>\n",
              "    </tr>\n",
              "    <tr>\n",
              "      <th>4</th>\n",
              "      <td>z13fwbwp1oujthgqj04chlngpvzmtt3r3dw</td>\n",
              "      <td>GsMega</td>\n",
              "      <td>2013-11-10T16:05:38</td>\n",
              "      <td>watch?v=vtaRGgvGtWQ   Check this out .﻿</td>\n",
              "      <td>1</td>\n",
              "    </tr>\n",
              "    <tr>\n",
              "      <th>...</th>\n",
              "      <td>...</td>\n",
              "      <td>...</td>\n",
              "      <td>...</td>\n",
              "      <td>...</td>\n",
              "      <td>...</td>\n",
              "    </tr>\n",
              "    <tr>\n",
              "      <th>345</th>\n",
              "      <td>z13th1q4yzihf1bll23qxzpjeujterydj</td>\n",
              "      <td>Carmen Racasanu</td>\n",
              "      <td>2014-11-14T13:27:52</td>\n",
              "      <td>How can this have 2 billion views when there's...</td>\n",
              "      <td>0</td>\n",
              "    </tr>\n",
              "    <tr>\n",
              "      <th>346</th>\n",
              "      <td>z13fcn1wfpb5e51xe04chdxakpzgchyaxzo0k</td>\n",
              "      <td>diego mogrovejo</td>\n",
              "      <td>2014-11-14T13:28:08</td>\n",
              "      <td>I don't now why I'm watching this in 2014﻿</td>\n",
              "      <td>0</td>\n",
              "    </tr>\n",
              "    <tr>\n",
              "      <th>347</th>\n",
              "      <td>z130zd5b3titudkoe04ccbeohojxuzppvbg</td>\n",
              "      <td>BlueYetiPlayz -Call Of Duty and More</td>\n",
              "      <td>2015-05-23T13:04:32</td>\n",
              "      <td>subscribe to me for call of duty vids and give...</td>\n",
              "      <td>1</td>\n",
              "    </tr>\n",
              "    <tr>\n",
              "      <th>348</th>\n",
              "      <td>z12he50arvrkivl5u04cctawgxzkjfsjcc4</td>\n",
              "      <td>Photo Editor</td>\n",
              "      <td>2015-06-05T14:14:48</td>\n",
              "      <td>hi guys please my android photo editor downloa...</td>\n",
              "      <td>1</td>\n",
              "    </tr>\n",
              "    <tr>\n",
              "      <th>349</th>\n",
              "      <td>z13vhvu54u3ewpp5h04ccb4zuoardrmjlyk0k</td>\n",
              "      <td>Ray Benich</td>\n",
              "      <td>2015-06-05T18:05:16</td>\n",
              "      <td>The first billion viewed this because they tho...</td>\n",
              "      <td>0</td>\n",
              "    </tr>\n",
              "  </tbody>\n",
              "</table>\n",
              "<p>350 rows × 5 columns</p>\n",
              "</div>\n",
              "      <button class=\"colab-df-convert\" onclick=\"convertToInteractive('df-aad7d03e-3e34-49c0-9813-4bee633e4334')\"\n",
              "              title=\"Convert this dataframe to an interactive table.\"\n",
              "              style=\"display:none;\">\n",
              "        \n",
              "  <svg xmlns=\"http://www.w3.org/2000/svg\" height=\"24px\"viewBox=\"0 0 24 24\"\n",
              "       width=\"24px\">\n",
              "    <path d=\"M0 0h24v24H0V0z\" fill=\"none\"/>\n",
              "    <path d=\"M18.56 5.44l.94 2.06.94-2.06 2.06-.94-2.06-.94-.94-2.06-.94 2.06-2.06.94zm-11 1L8.5 8.5l.94-2.06 2.06-.94-2.06-.94L8.5 2.5l-.94 2.06-2.06.94zm10 10l.94 2.06.94-2.06 2.06-.94-2.06-.94-.94-2.06-.94 2.06-2.06.94z\"/><path d=\"M17.41 7.96l-1.37-1.37c-.4-.4-.92-.59-1.43-.59-.52 0-1.04.2-1.43.59L10.3 9.45l-7.72 7.72c-.78.78-.78 2.05 0 2.83L4 21.41c.39.39.9.59 1.41.59.51 0 1.02-.2 1.41-.59l7.78-7.78 2.81-2.81c.8-.78.8-2.07 0-2.86zM5.41 20L4 18.59l7.72-7.72 1.47 1.35L5.41 20z\"/>\n",
              "  </svg>\n",
              "      </button>\n",
              "      \n",
              "  <style>\n",
              "    .colab-df-container {\n",
              "      display:flex;\n",
              "      flex-wrap:wrap;\n",
              "      gap: 12px;\n",
              "    }\n",
              "\n",
              "    .colab-df-convert {\n",
              "      background-color: #E8F0FE;\n",
              "      border: none;\n",
              "      border-radius: 50%;\n",
              "      cursor: pointer;\n",
              "      display: none;\n",
              "      fill: #1967D2;\n",
              "      height: 32px;\n",
              "      padding: 0 0 0 0;\n",
              "      width: 32px;\n",
              "    }\n",
              "\n",
              "    .colab-df-convert:hover {\n",
              "      background-color: #E2EBFA;\n",
              "      box-shadow: 0px 1px 2px rgba(60, 64, 67, 0.3), 0px 1px 3px 1px rgba(60, 64, 67, 0.15);\n",
              "      fill: #174EA6;\n",
              "    }\n",
              "\n",
              "    [theme=dark] .colab-df-convert {\n",
              "      background-color: #3B4455;\n",
              "      fill: #D2E3FC;\n",
              "    }\n",
              "\n",
              "    [theme=dark] .colab-df-convert:hover {\n",
              "      background-color: #434B5C;\n",
              "      box-shadow: 0px 1px 3px 1px rgba(0, 0, 0, 0.15);\n",
              "      filter: drop-shadow(0px 1px 2px rgba(0, 0, 0, 0.3));\n",
              "      fill: #FFFFFF;\n",
              "    }\n",
              "  </style>\n",
              "\n",
              "      <script>\n",
              "        const buttonEl =\n",
              "          document.querySelector('#df-aad7d03e-3e34-49c0-9813-4bee633e4334 button.colab-df-convert');\n",
              "        buttonEl.style.display =\n",
              "          google.colab.kernel.accessAllowed ? 'block' : 'none';\n",
              "\n",
              "        async function convertToInteractive(key) {\n",
              "          const element = document.querySelector('#df-aad7d03e-3e34-49c0-9813-4bee633e4334');\n",
              "          const dataTable =\n",
              "            await google.colab.kernel.invokeFunction('convertToInteractive',\n",
              "                                                     [key], {});\n",
              "          if (!dataTable) return;\n",
              "\n",
              "          const docLinkHtml = 'Like what you see? Visit the ' +\n",
              "            '<a target=\"_blank\" href=https://colab.research.google.com/notebooks/data_table.ipynb>data table notebook</a>'\n",
              "            + ' to learn more about interactive tables.';\n",
              "          element.innerHTML = '';\n",
              "          dataTable['output_type'] = 'display_data';\n",
              "          await google.colab.output.renderOutput(dataTable, element);\n",
              "          const docLink = document.createElement('div');\n",
              "          docLink.innerHTML = docLinkHtml;\n",
              "          element.appendChild(docLink);\n",
              "        }\n",
              "      </script>\n",
              "    </div>\n",
              "  </div>\n",
              "  "
            ]
          },
          "metadata": {},
          "execution_count": 20
        }
      ]
    },
    {
      "cell_type": "code",
      "metadata": {
        "id": "03ff572b"
      },
      "source": [
        "# save and write mearge data to a csv file\n",
        "df_with_keys.to_csv(\"YoutubeSpamMergedData01.csv\")"
      ],
      "id": "03ff572b",
      "execution_count": null,
      "outputs": []
    },
    {
      "cell_type": "markdown",
      "source": [
        "## Data Visualization after Preprocessing"
      ],
      "metadata": {
        "id": "zudkRDaCNRlv"
      },
      "id": "zudkRDaCNRlv"
    },
    {
      "cell_type": "code",
      "metadata": {
        "colab": {
          "base_uri": "https://localhost:8080/",
          "height": 624
        },
        "id": "94035e28",
        "outputId": "a27a583c-46b6-453f-f9b4-0238d6011c63"
      },
      "source": [
        "# getting data from mearge dataset.\n",
        "\n",
        "df= pd.read_csv(\"YoutubeSpamMergedData01.csv\")\n",
        "df\n"
      ],
      "id": "94035e28",
      "execution_count": null,
      "outputs": [
        {
          "output_type": "execute_result",
          "data": {
            "text/plain": [
              "     Unnamed: 0  Unnamed: 1                                   COMMENT_ID  \\\n",
              "0           Psy           0  LZQPQhLyRh80UYxNuaDWhIGQYNQ96IuCg-AYWqNPjpU   \n",
              "1           Psy           1  LZQPQhLyRh_C2cTtd9MvFRJedxydaVW-2sNg5Diuo4A   \n",
              "2           Psy           2  LZQPQhLyRh9MSZYnf8djyk0gEF9BHDPYrrK-qCczIY8   \n",
              "3           Psy           3          z13jhp0bxqncu512g22wvzkasxmvvzjaz04   \n",
              "4           Psy           4          z13fwbwp1oujthgqj04chlngpvzmtt3r3dw   \n",
              "...         ...         ...                                          ...   \n",
              "1951    Shakira         365  _2viQ_Qnc6-bMSjqyL1NKj57ROicCSJV5SwTrw-RFFA   \n",
              "1952    Shakira         366  _2viQ_Qnc6-pY-1yR6K2FhmC5i48-WuNx5CumlHLDAI   \n",
              "1953    Shakira         367  _2viQ_Qnc6_k_n_Bse9zVhJP8tJReZpo8uM2uZfnzDs   \n",
              "1954    Shakira         368  _2viQ_Qnc6_yBt8UGMWyg3vh0PulTqcqyQtdE7d4Fl0   \n",
              "1955    Shakira         369  _2viQ_Qnc685RPw1aSa1tfrIuHXRvAQ2rPT9R06KTqA   \n",
              "\n",
              "                    AUTHOR                        DATE  \\\n",
              "0                Julius NM         2013-11-07T06:20:48   \n",
              "1              adam riyati         2013-11-07T12:37:15   \n",
              "2         Evgeny Murashkin         2013-11-08T17:34:21   \n",
              "3          ElNino Melendez         2013-11-09T08:28:43   \n",
              "4                   GsMega         2013-11-10T16:05:38   \n",
              "...                    ...                         ...   \n",
              "1951          Katie Mettam  2013-07-13T13:27:39.441000   \n",
              "1952  Sabina Pearson-Smith  2013-07-13T13:14:30.021000   \n",
              "1953         jeffrey jules  2013-07-13T12:09:31.188000   \n",
              "1954        Aishlin Maciel  2013-07-13T11:17:52.308000   \n",
              "1955           Latin Bosch  2013-07-12T22:33:27.916000   \n",
              "\n",
              "                                                CONTENT  CLASS  \n",
              "0     Huh, anyway check out this you[tube] channel: ...      1  \n",
              "1     Hey guys check out my new channel and our firs...      1  \n",
              "2                just for test I have to say murdev.com      1  \n",
              "3      me shaking my sexy ass on my channel enjoy ^_^ ﻿      1  \n",
              "4               watch?v=vtaRGgvGtWQ   Check this out .﻿      1  \n",
              "...                                                 ...    ...  \n",
              "1951  I love this song because we sing it at Camp al...      0  \n",
              "1952  I love this song for two reasons: 1.it is abou...      0  \n",
              "1953                                                wow      0  \n",
              "1954                            Shakira u are so wiredo      0  \n",
              "1955                         Shakira is the best dancer      0  \n",
              "\n",
              "[1956 rows x 7 columns]"
            ],
            "text/html": [
              "\n",
              "  <div id=\"df-ed227dd7-72f7-4176-a232-5b9a0479ae7a\">\n",
              "    <div class=\"colab-df-container\">\n",
              "      <div>\n",
              "<style scoped>\n",
              "    .dataframe tbody tr th:only-of-type {\n",
              "        vertical-align: middle;\n",
              "    }\n",
              "\n",
              "    .dataframe tbody tr th {\n",
              "        vertical-align: top;\n",
              "    }\n",
              "\n",
              "    .dataframe thead th {\n",
              "        text-align: right;\n",
              "    }\n",
              "</style>\n",
              "<table border=\"1\" class=\"dataframe\">\n",
              "  <thead>\n",
              "    <tr style=\"text-align: right;\">\n",
              "      <th></th>\n",
              "      <th>Unnamed: 0</th>\n",
              "      <th>Unnamed: 1</th>\n",
              "      <th>COMMENT_ID</th>\n",
              "      <th>AUTHOR</th>\n",
              "      <th>DATE</th>\n",
              "      <th>CONTENT</th>\n",
              "      <th>CLASS</th>\n",
              "    </tr>\n",
              "  </thead>\n",
              "  <tbody>\n",
              "    <tr>\n",
              "      <th>0</th>\n",
              "      <td>Psy</td>\n",
              "      <td>0</td>\n",
              "      <td>LZQPQhLyRh80UYxNuaDWhIGQYNQ96IuCg-AYWqNPjpU</td>\n",
              "      <td>Julius NM</td>\n",
              "      <td>2013-11-07T06:20:48</td>\n",
              "      <td>Huh, anyway check out this you[tube] channel: ...</td>\n",
              "      <td>1</td>\n",
              "    </tr>\n",
              "    <tr>\n",
              "      <th>1</th>\n",
              "      <td>Psy</td>\n",
              "      <td>1</td>\n",
              "      <td>LZQPQhLyRh_C2cTtd9MvFRJedxydaVW-2sNg5Diuo4A</td>\n",
              "      <td>adam riyati</td>\n",
              "      <td>2013-11-07T12:37:15</td>\n",
              "      <td>Hey guys check out my new channel and our firs...</td>\n",
              "      <td>1</td>\n",
              "    </tr>\n",
              "    <tr>\n",
              "      <th>2</th>\n",
              "      <td>Psy</td>\n",
              "      <td>2</td>\n",
              "      <td>LZQPQhLyRh9MSZYnf8djyk0gEF9BHDPYrrK-qCczIY8</td>\n",
              "      <td>Evgeny Murashkin</td>\n",
              "      <td>2013-11-08T17:34:21</td>\n",
              "      <td>just for test I have to say murdev.com</td>\n",
              "      <td>1</td>\n",
              "    </tr>\n",
              "    <tr>\n",
              "      <th>3</th>\n",
              "      <td>Psy</td>\n",
              "      <td>3</td>\n",
              "      <td>z13jhp0bxqncu512g22wvzkasxmvvzjaz04</td>\n",
              "      <td>ElNino Melendez</td>\n",
              "      <td>2013-11-09T08:28:43</td>\n",
              "      <td>me shaking my sexy ass on my channel enjoy ^_^ ﻿</td>\n",
              "      <td>1</td>\n",
              "    </tr>\n",
              "    <tr>\n",
              "      <th>4</th>\n",
              "      <td>Psy</td>\n",
              "      <td>4</td>\n",
              "      <td>z13fwbwp1oujthgqj04chlngpvzmtt3r3dw</td>\n",
              "      <td>GsMega</td>\n",
              "      <td>2013-11-10T16:05:38</td>\n",
              "      <td>watch?v=vtaRGgvGtWQ   Check this out .﻿</td>\n",
              "      <td>1</td>\n",
              "    </tr>\n",
              "    <tr>\n",
              "      <th>...</th>\n",
              "      <td>...</td>\n",
              "      <td>...</td>\n",
              "      <td>...</td>\n",
              "      <td>...</td>\n",
              "      <td>...</td>\n",
              "      <td>...</td>\n",
              "      <td>...</td>\n",
              "    </tr>\n",
              "    <tr>\n",
              "      <th>1951</th>\n",
              "      <td>Shakira</td>\n",
              "      <td>365</td>\n",
              "      <td>_2viQ_Qnc6-bMSjqyL1NKj57ROicCSJV5SwTrw-RFFA</td>\n",
              "      <td>Katie Mettam</td>\n",
              "      <td>2013-07-13T13:27:39.441000</td>\n",
              "      <td>I love this song because we sing it at Camp al...</td>\n",
              "      <td>0</td>\n",
              "    </tr>\n",
              "    <tr>\n",
              "      <th>1952</th>\n",
              "      <td>Shakira</td>\n",
              "      <td>366</td>\n",
              "      <td>_2viQ_Qnc6-pY-1yR6K2FhmC5i48-WuNx5CumlHLDAI</td>\n",
              "      <td>Sabina Pearson-Smith</td>\n",
              "      <td>2013-07-13T13:14:30.021000</td>\n",
              "      <td>I love this song for two reasons: 1.it is abou...</td>\n",
              "      <td>0</td>\n",
              "    </tr>\n",
              "    <tr>\n",
              "      <th>1953</th>\n",
              "      <td>Shakira</td>\n",
              "      <td>367</td>\n",
              "      <td>_2viQ_Qnc6_k_n_Bse9zVhJP8tJReZpo8uM2uZfnzDs</td>\n",
              "      <td>jeffrey jules</td>\n",
              "      <td>2013-07-13T12:09:31.188000</td>\n",
              "      <td>wow</td>\n",
              "      <td>0</td>\n",
              "    </tr>\n",
              "    <tr>\n",
              "      <th>1954</th>\n",
              "      <td>Shakira</td>\n",
              "      <td>368</td>\n",
              "      <td>_2viQ_Qnc6_yBt8UGMWyg3vh0PulTqcqyQtdE7d4Fl0</td>\n",
              "      <td>Aishlin Maciel</td>\n",
              "      <td>2013-07-13T11:17:52.308000</td>\n",
              "      <td>Shakira u are so wiredo</td>\n",
              "      <td>0</td>\n",
              "    </tr>\n",
              "    <tr>\n",
              "      <th>1955</th>\n",
              "      <td>Shakira</td>\n",
              "      <td>369</td>\n",
              "      <td>_2viQ_Qnc685RPw1aSa1tfrIuHXRvAQ2rPT9R06KTqA</td>\n",
              "      <td>Latin Bosch</td>\n",
              "      <td>2013-07-12T22:33:27.916000</td>\n",
              "      <td>Shakira is the best dancer</td>\n",
              "      <td>0</td>\n",
              "    </tr>\n",
              "  </tbody>\n",
              "</table>\n",
              "<p>1956 rows × 7 columns</p>\n",
              "</div>\n",
              "      <button class=\"colab-df-convert\" onclick=\"convertToInteractive('df-ed227dd7-72f7-4176-a232-5b9a0479ae7a')\"\n",
              "              title=\"Convert this dataframe to an interactive table.\"\n",
              "              style=\"display:none;\">\n",
              "        \n",
              "  <svg xmlns=\"http://www.w3.org/2000/svg\" height=\"24px\"viewBox=\"0 0 24 24\"\n",
              "       width=\"24px\">\n",
              "    <path d=\"M0 0h24v24H0V0z\" fill=\"none\"/>\n",
              "    <path d=\"M18.56 5.44l.94 2.06.94-2.06 2.06-.94-2.06-.94-.94-2.06-.94 2.06-2.06.94zm-11 1L8.5 8.5l.94-2.06 2.06-.94-2.06-.94L8.5 2.5l-.94 2.06-2.06.94zm10 10l.94 2.06.94-2.06 2.06-.94-2.06-.94-.94-2.06-.94 2.06-2.06.94z\"/><path d=\"M17.41 7.96l-1.37-1.37c-.4-.4-.92-.59-1.43-.59-.52 0-1.04.2-1.43.59L10.3 9.45l-7.72 7.72c-.78.78-.78 2.05 0 2.83L4 21.41c.39.39.9.59 1.41.59.51 0 1.02-.2 1.41-.59l7.78-7.78 2.81-2.81c.8-.78.8-2.07 0-2.86zM5.41 20L4 18.59l7.72-7.72 1.47 1.35L5.41 20z\"/>\n",
              "  </svg>\n",
              "      </button>\n",
              "      \n",
              "  <style>\n",
              "    .colab-df-container {\n",
              "      display:flex;\n",
              "      flex-wrap:wrap;\n",
              "      gap: 12px;\n",
              "    }\n",
              "\n",
              "    .colab-df-convert {\n",
              "      background-color: #E8F0FE;\n",
              "      border: none;\n",
              "      border-radius: 50%;\n",
              "      cursor: pointer;\n",
              "      display: none;\n",
              "      fill: #1967D2;\n",
              "      height: 32px;\n",
              "      padding: 0 0 0 0;\n",
              "      width: 32px;\n",
              "    }\n",
              "\n",
              "    .colab-df-convert:hover {\n",
              "      background-color: #E2EBFA;\n",
              "      box-shadow: 0px 1px 2px rgba(60, 64, 67, 0.3), 0px 1px 3px 1px rgba(60, 64, 67, 0.15);\n",
              "      fill: #174EA6;\n",
              "    }\n",
              "\n",
              "    [theme=dark] .colab-df-convert {\n",
              "      background-color: #3B4455;\n",
              "      fill: #D2E3FC;\n",
              "    }\n",
              "\n",
              "    [theme=dark] .colab-df-convert:hover {\n",
              "      background-color: #434B5C;\n",
              "      box-shadow: 0px 1px 3px 1px rgba(0, 0, 0, 0.15);\n",
              "      filter: drop-shadow(0px 1px 2px rgba(0, 0, 0, 0.3));\n",
              "      fill: #FFFFFF;\n",
              "    }\n",
              "  </style>\n",
              "\n",
              "      <script>\n",
              "        const buttonEl =\n",
              "          document.querySelector('#df-ed227dd7-72f7-4176-a232-5b9a0479ae7a button.colab-df-convert');\n",
              "        buttonEl.style.display =\n",
              "          google.colab.kernel.accessAllowed ? 'block' : 'none';\n",
              "\n",
              "        async function convertToInteractive(key) {\n",
              "          const element = document.querySelector('#df-ed227dd7-72f7-4176-a232-5b9a0479ae7a');\n",
              "          const dataTable =\n",
              "            await google.colab.kernel.invokeFunction('convertToInteractive',\n",
              "                                                     [key], {});\n",
              "          if (!dataTable) return;\n",
              "\n",
              "          const docLinkHtml = 'Like what you see? Visit the ' +\n",
              "            '<a target=\"_blank\" href=https://colab.research.google.com/notebooks/data_table.ipynb>data table notebook</a>'\n",
              "            + ' to learn more about interactive tables.';\n",
              "          element.innerHTML = '';\n",
              "          dataTable['output_type'] = 'display_data';\n",
              "          await google.colab.output.renderOutput(dataTable, element);\n",
              "          const docLink = document.createElement('div');\n",
              "          docLink.innerHTML = docLinkHtml;\n",
              "          element.appendChild(docLink);\n",
              "        }\n",
              "      </script>\n",
              "    </div>\n",
              "  </div>\n",
              "  "
            ]
          },
          "metadata": {},
          "execution_count": 22
        }
      ]
    },
    {
      "cell_type": "code",
      "metadata": {
        "colab": {
          "base_uri": "https://localhost:8080/"
        },
        "id": "06656737",
        "outputId": "5a93df5d-8397-40ba-a20e-c98ba37deea5"
      },
      "source": [
        "#data size\n",
        "df.size"
      ],
      "id": "06656737",
      "execution_count": null,
      "outputs": [
        {
          "output_type": "execute_result",
          "data": {
            "text/plain": [
              "13692"
            ]
          },
          "metadata": {},
          "execution_count": 23
        }
      ]
    },
    {
      "cell_type": "code",
      "source": [
        "slices = df['CLASS'].value_counts()\n",
        "activity = ['Posetive' , 'Negative']\n",
        "cols = ['g','r']\n",
        "\n",
        "plt.pie(slices,\n",
        "        labels = activity,\n",
        "        colors = cols,\n",
        "        startangle = 0,\n",
        "        shadow = False,\n",
        "        explode = (0,0),\n",
        "        autopct = \"%1.2f%%\",\n",
        "        radius = 1)\n",
        "\n",
        "plt.title('spam comments ratio')\n",
        "plt.show()"
      ],
      "metadata": {
        "colab": {
          "base_uri": "https://localhost:8080/",
          "height": 264
        },
        "id": "e8_lgHHsMqbt",
        "outputId": "f04d6e8e-337f-4659-f3be-828a145494f5"
      },
      "id": "e8_lgHHsMqbt",
      "execution_count": null,
      "outputs": [
        {
          "output_type": "display_data",
          "data": {
            "text/plain": [
              "<Figure size 432x288 with 1 Axes>"
            ],
            "image/png": "[encoded data removed]"
          },
          "metadata": {}
        }
      ]
    },
    {
      "cell_type": "markdown",
      "source": [
        "## Data cleaning"
      ],
      "metadata": {
        "id": "nJmYD9osLmJm"
      },
      "id": "nJmYD9osLmJm"
    },
    {
      "cell_type": "code",
      "metadata": {
        "colab": {
          "base_uri": "https://localhost:8080/"
        },
        "id": "0c599bd8",
        "outputId": "cb51a1b1-65ae-4240-faa2-750120cc9e66"
      },
      "source": [
        "# checking for consistent column name\n",
        "df.columns"
      ],
      "id": "0c599bd8",
      "execution_count": null,
      "outputs": [
        {
          "output_type": "execute_result",
          "data": {
            "text/plain": [
              "Index(['Unnamed: 0', 'Unnamed: 1', 'COMMENT_ID', 'AUTHOR', 'DATE', 'CONTENT',\n",
              "       'CLASS'],\n",
              "      dtype='object')"
            ]
          },
          "metadata": {},
          "execution_count": 25
        }
      ]
    },
    {
      "cell_type": "code",
      "metadata": {
        "colab": {
          "base_uri": "https://localhost:8080/"
        },
        "id": "944e72b7",
        "outputId": "d016e597-c98e-4a4e-c0a9-b5c69b017a68"
      },
      "source": [
        "# checking data types\n",
        "df.dtypes"
      ],
      "id": "944e72b7",
      "execution_count": null,
      "outputs": [
        {
          "output_type": "execute_result",
          "data": {
            "text/plain": [
              "Unnamed: 0    object\n",
              "Unnamed: 1     int64\n",
              "COMMENT_ID    object\n",
              "AUTHOR        object\n",
              "DATE          object\n",
              "CONTENT       object\n",
              "CLASS          int64\n",
              "dtype: object"
            ]
          },
          "metadata": {},
          "execution_count": 26
        }
      ]
    },
    {
      "cell_type": "code",
      "metadata": {
        "colab": {
          "base_uri": "https://localhost:8080/"
        },
        "id": "90cde782",
        "outputId": "aba02390-6ae2-4ade-ecdd-93468a66ba6a"
      },
      "source": [
        "# checking for missing nan\n",
        "df.isnull().sum()"
      ],
      "id": "90cde782",
      "execution_count": null,
      "outputs": [
        {
          "output_type": "execute_result",
          "data": {
            "text/plain": [
              "Unnamed: 0      0\n",
              "Unnamed: 1      0\n",
              "COMMENT_ID      0\n",
              "AUTHOR          0\n",
              "DATE          245\n",
              "CONTENT         0\n",
              "CLASS           0\n",
              "dtype: int64"
            ]
          },
          "metadata": {},
          "execution_count": 27
        }
      ]
    },
    {
      "cell_type": "code",
      "metadata": {
        "colab": {
          "base_uri": "https://localhost:8080/"
        },
        "id": "a100eff5",
        "outputId": "67ec2b6a-ee15-4618-b89c-19a7eeb291c4"
      },
      "source": [
        "# check for date\n",
        "df['DATE']"
      ],
      "id": "a100eff5",
      "execution_count": null,
      "outputs": [
        {
          "output_type": "execute_result",
          "data": {
            "text/plain": [
              "0              2013-11-07T06:20:48\n",
              "1              2013-11-07T12:37:15\n",
              "2              2013-11-08T17:34:21\n",
              "3              2013-11-09T08:28:43\n",
              "4              2013-11-10T16:05:38\n",
              "                   ...            \n",
              "1951    2013-07-13T13:27:39.441000\n",
              "1952    2013-07-13T13:14:30.021000\n",
              "1953    2013-07-13T12:09:31.188000\n",
              "1954    2013-07-13T11:17:52.308000\n",
              "1955    2013-07-12T22:33:27.916000\n",
              "Name: DATE, Length: 1956, dtype: object"
            ]
          },
          "metadata": {},
          "execution_count": 28
        }
      ]
    },
    {
      "cell_type": "code",
      "metadata": {
        "colab": {
          "base_uri": "https://localhost:8080/"
        },
        "id": "fb231b1a",
        "outputId": "a04e1fec-1682-425a-e09c-7da3afe2ffe5"
      },
      "source": [
        "# getting author details \n",
        "df.AUTHOR\n",
        "# if i convert the auther name to first and last bname then\n",
        "#df[[\"FIRSTNAME\"],[\"LASTNAME\"]] = df['AUTHOR'].str.split(expand=True)"
      ],
      "id": "fb231b1a",
      "execution_count": null,
      "outputs": [
        {
          "output_type": "execute_result",
          "data": {
            "text/plain": [
              "0                  Julius NM\n",
              "1                adam riyati\n",
              "2           Evgeny Murashkin\n",
              "3            ElNino Melendez\n",
              "4                     GsMega\n",
              "                ...         \n",
              "1951            Katie Mettam\n",
              "1952    Sabina Pearson-Smith\n",
              "1953           jeffrey jules\n",
              "1954          Aishlin Maciel\n",
              "1955             Latin Bosch\n",
              "Name: AUTHOR, Length: 1956, dtype: object"
            ]
          },
          "metadata": {},
          "execution_count": 29
        }
      ]
    },
    {
      "cell_type": "code",
      "metadata": {
        "colab": {
          "base_uri": "https://localhost:8080/",
          "height": 423
        },
        "id": "554273d9",
        "outputId": "66c136a8-ae2c-4657-d66e-0df452a1c02e"
      },
      "source": [
        "## working with text content\n",
        "df_data = df[['CONTENT','CLASS']]\n",
        "# to see those values content =  comments && class = true/false\n",
        "df_data"
      ],
      "id": "554273d9",
      "execution_count": null,
      "outputs": [
        {
          "output_type": "execute_result",
          "data": {
            "text/plain": [
              "                                                CONTENT  CLASS\n",
              "0     Huh, anyway check out this you[tube] channel: ...      1\n",
              "1     Hey guys check out my new channel and our firs...      1\n",
              "2                just for test I have to say murdev.com      1\n",
              "3      me shaking my sexy ass on my channel enjoy ^_^ ﻿      1\n",
              "4               watch?v=vtaRGgvGtWQ   Check this out .﻿      1\n",
              "...                                                 ...    ...\n",
              "1951  I love this song because we sing it at Camp al...      0\n",
              "1952  I love this song for two reasons: 1.it is abou...      0\n",
              "1953                                                wow      0\n",
              "1954                            Shakira u are so wiredo      0\n",
              "1955                         Shakira is the best dancer      0\n",
              "\n",
              "[1956 rows x 2 columns]"
            ],
            "text/html": [
              "\n",
              "  <div id=\"df-4d73eaaa-3c8c-4c0a-9037-b527b9b45ba5\">\n",
              "    <div class=\"colab-df-container\">\n",
              "      <div>\n",
              "<style scoped>\n",
              "    .dataframe tbody tr th:only-of-type {\n",
              "        vertical-align: middle;\n",
              "    }\n",
              "\n",
              "    .dataframe tbody tr th {\n",
              "        vertical-align: top;\n",
              "    }\n",
              "\n",
              "    .dataframe thead th {\n",
              "        text-align: right;\n",
              "    }\n",
              "</style>\n",
              "<table border=\"1\" class=\"dataframe\">\n",
              "  <thead>\n",
              "    <tr style=\"text-align: right;\">\n",
              "      <th></th>\n",
              "      <th>CONTENT</th>\n",
              "      <th>CLASS</th>\n",
              "    </tr>\n",
              "  </thead>\n",
              "  <tbody>\n",
              "    <tr>\n",
              "      <th>0</th>\n",
              "      <td>Huh, anyway check out this you[tube] channel: ...</td>\n",
              "      <td>1</td>\n",
              "    </tr>\n",
              "    <tr>\n",
              "      <th>1</th>\n",
              "      <td>Hey guys check out my new channel and our firs...</td>\n",
              "      <td>1</td>\n",
              "    </tr>\n",
              "    <tr>\n",
              "      <th>2</th>\n",
              "      <td>just for test I have to say murdev.com</td>\n",
              "      <td>1</td>\n",
              "    </tr>\n",
              "    <tr>\n",
              "      <th>3</th>\n",
              "      <td>me shaking my sexy ass on my channel enjoy ^_^ ﻿</td>\n",
              "      <td>1</td>\n",
              "    </tr>\n",
              "    <tr>\n",
              "      <th>4</th>\n",
              "      <td>watch?v=vtaRGgvGtWQ   Check this out .﻿</td>\n",
              "      <td>1</td>\n",
              "    </tr>\n",
              "    <tr>\n",
              "      <th>...</th>\n",
              "      <td>...</td>\n",
              "      <td>...</td>\n",
              "    </tr>\n",
              "    <tr>\n",
              "      <th>1951</th>\n",
              "      <td>I love this song because we sing it at Camp al...</td>\n",
              "      <td>0</td>\n",
              "    </tr>\n",
              "    <tr>\n",
              "      <th>1952</th>\n",
              "      <td>I love this song for two reasons: 1.it is abou...</td>\n",
              "      <td>0</td>\n",
              "    </tr>\n",
              "    <tr>\n",
              "      <th>1953</th>\n",
              "      <td>wow</td>\n",
              "      <td>0</td>\n",
              "    </tr>\n",
              "    <tr>\n",
              "      <th>1954</th>\n",
              "      <td>Shakira u are so wiredo</td>\n",
              "      <td>0</td>\n",
              "    </tr>\n",
              "    <tr>\n",
              "      <th>1955</th>\n",
              "      <td>Shakira is the best dancer</td>\n",
              "      <td>0</td>\n",
              "    </tr>\n",
              "  </tbody>\n",
              "</table>\n",
              "<p>1956 rows × 2 columns</p>\n",
              "</div>\n",
              "      <button class=\"colab-df-convert\" onclick=\"convertToInteractive('df-4d73eaaa-3c8c-4c0a-9037-b527b9b45ba5')\"\n",
              "              title=\"Convert this dataframe to an interactive table.\"\n",
              "              style=\"display:none;\">\n",
              "        \n",
              "  <svg xmlns=\"http://www.w3.org/2000/svg\" height=\"24px\"viewBox=\"0 0 24 24\"\n",
              "       width=\"24px\">\n",
              "    <path d=\"M0 0h24v24H0V0z\" fill=\"none\"/>\n",
              "    <path d=\"M18.56 5.44l.94 2.06.94-2.06 2.06-.94-2.06-.94-.94-2.06-.94 2.06-2.06.94zm-11 1L8.5 8.5l.94-2.06 2.06-.94-2.06-.94L8.5 2.5l-.94 2.06-2.06.94zm10 10l.94 2.06.94-2.06 2.06-.94-2.06-.94-.94-2.06-.94 2.06-2.06.94z\"/><path d=\"M17.41 7.96l-1.37-1.37c-.4-.4-.92-.59-1.43-.59-.52 0-1.04.2-1.43.59L10.3 9.45l-7.72 7.72c-.78.78-.78 2.05 0 2.83L4 21.41c.39.39.9.59 1.41.59.51 0 1.02-.2 1.41-.59l7.78-7.78 2.81-2.81c.8-.78.8-2.07 0-2.86zM5.41 20L4 18.59l7.72-7.72 1.47 1.35L5.41 20z\"/>\n",
              "  </svg>\n",
              "      </button>\n",
              "      \n",
              "  <style>\n",
              "    .colab-df-container {\n",
              "      display:flex;\n",
              "      flex-wrap:wrap;\n",
              "      gap: 12px;\n",
              "    }\n",
              "\n",
              "    .colab-df-convert {\n",
              "      background-color: #E8F0FE;\n",
              "      border: none;\n",
              "      border-radius: 50%;\n",
              "      cursor: pointer;\n",
              "      display: none;\n",
              "      fill: #1967D2;\n",
              "      height: 32px;\n",
              "      padding: 0 0 0 0;\n",
              "      width: 32px;\n",
              "    }\n",
              "\n",
              "    .colab-df-convert:hover {\n",
              "      background-color: #E2EBFA;\n",
              "      box-shadow: 0px 1px 2px rgba(60, 64, 67, 0.3), 0px 1px 3px 1px rgba(60, 64, 67, 0.15);\n",
              "      fill: #174EA6;\n",
              "    }\n",
              "\n",
              "    [theme=dark] .colab-df-convert {\n",
              "      background-color: #3B4455;\n",
              "      fill: #D2E3FC;\n",
              "    }\n",
              "\n",
              "    [theme=dark] .colab-df-convert:hover {\n",
              "      background-color: #434B5C;\n",
              "      box-shadow: 0px 1px 3px 1px rgba(0, 0, 0, 0.15);\n",
              "      filter: drop-shadow(0px 1px 2px rgba(0, 0, 0, 0.3));\n",
              "      fill: #FFFFFF;\n",
              "    }\n",
              "  </style>\n",
              "\n",
              "      <script>\n",
              "        const buttonEl =\n",
              "          document.querySelector('#df-4d73eaaa-3c8c-4c0a-9037-b527b9b45ba5 button.colab-df-convert');\n",
              "        buttonEl.style.display =\n",
              "          google.colab.kernel.accessAllowed ? 'block' : 'none';\n",
              "\n",
              "        async function convertToInteractive(key) {\n",
              "          const element = document.querySelector('#df-4d73eaaa-3c8c-4c0a-9037-b527b9b45ba5');\n",
              "          const dataTable =\n",
              "            await google.colab.kernel.invokeFunction('convertToInteractive',\n",
              "                                                     [key], {});\n",
              "          if (!dataTable) return;\n",
              "\n",
              "          const docLinkHtml = 'Like what you see? Visit the ' +\n",
              "            '<a target=\"_blank\" href=https://colab.research.google.com/notebooks/data_table.ipynb>data table notebook</a>'\n",
              "            + ' to learn more about interactive tables.';\n",
              "          element.innerHTML = '';\n",
              "          dataTable['output_type'] = 'display_data';\n",
              "          await google.colab.output.renderOutput(dataTable, element);\n",
              "          const docLink = document.createElement('div');\n",
              "          docLink.innerHTML = docLinkHtml;\n",
              "          element.appendChild(docLink);\n",
              "        }\n",
              "      </script>\n",
              "    </div>\n",
              "  </div>\n",
              "  "
            ]
          },
          "metadata": {},
          "execution_count": 30
        }
      ]
    },
    {
      "cell_type": "code",
      "metadata": {
        "colab": {
          "base_uri": "https://localhost:8080/"
        },
        "id": "e25ddf05",
        "outputId": "c527721d-5a07-4132-941a-b351d78a9513"
      },
      "source": [
        "# to see new dataset coluimns\n",
        "df_data.columns"
      ],
      "id": "e25ddf05",
      "execution_count": null,
      "outputs": [
        {
          "output_type": "execute_result",
          "data": {
            "text/plain": [
              "Index(['CONTENT', 'CLASS'], dtype='object')"
            ]
          },
          "metadata": {},
          "execution_count": 31
        }
      ]
    },
    {
      "cell_type": "code",
      "metadata": {
        "id": "fb3302c9"
      },
      "source": [
        "# inserting data inn x,y for visualization\n",
        "df_x = df_data['CONTENT']\n",
        "df_y = df_data['CLASS']"
      ],
      "id": "fb3302c9",
      "execution_count": null,
      "outputs": []
    },
    {
      "cell_type": "markdown",
      "source": [
        "## Feature Selection"
      ],
      "metadata": {
        "id": "1xYgmL9BOa5A"
      },
      "id": "1xYgmL9BOa5A"
    },
    {
      "cell_type": "code",
      "metadata": {
        "id": "545e4e31"
      },
      "source": [
        "### Feature Extraction From Text\n",
        "\n",
        "#1 CountVectorizer\n",
        "#2 TfidfVectorizer\n",
        "\n",
        "cv = CountVectorizer()\n",
        "\n",
        "ex = cv.fit_transform([\"Great song but check this out\",\"What is this song\"])"
      ],
      "id": "545e4e31",
      "execution_count": null,
      "outputs": []
    },
    {
      "cell_type": "code",
      "metadata": {
        "colab": {
          "base_uri": "https://localhost:8080/"
        },
        "id": "afd2dd3d",
        "outputId": "8f1737f1-3d36-4d30-afb6-136fbbffb311"
      },
      "source": [
        "# convertion to arry\n",
        "ex.toarray()"
      ],
      "id": "afd2dd3d",
      "execution_count": null,
      "outputs": [
        {
          "output_type": "execute_result",
          "data": {
            "text/plain": [
              "array([[1, 1, 1, 0, 1, 1, 1, 0],\n",
              "       [0, 0, 0, 1, 0, 1, 1, 1]])"
            ]
          },
          "metadata": {},
          "execution_count": 34
        }
      ]
    },
    {
      "cell_type": "code",
      "metadata": {
        "colab": {
          "base_uri": "https://localhost:8080/"
        },
        "id": "3024f7f7",
        "outputId": "f6e0a3f0-3017-4bd4-d27e-e94b97f088c0"
      },
      "source": [
        "# gettingh feature name\n",
        "cv.get_feature_names()"
      ],
      "id": "3024f7f7",
      "execution_count": null,
      "outputs": [
        {
          "output_type": "stream",
          "name": "stderr",
          "text": [
            "/usr/local/lib/python3.7/dist-packages/sklearn/utils/deprecation.py:87: FutureWarning: Function get_feature_names is deprecated; get_feature_names is deprecated in 1.0 and will be removed in 1.2. Please use get_feature_names_out instead.\n",
            "  warnings.warn(msg, category=FutureWarning)\n"
          ]
        },
        {
          "output_type": "execute_result",
          "data": {
            "text/plain": [
              "['but', 'check', 'great', 'is', 'out', 'song', 'this', 'what']"
            ]
          },
          "metadata": {},
          "execution_count": 35
        }
      ]
    },
    {
      "cell_type": "markdown",
      "source": [
        "## Feature Extraction and Feature Engineering"
      ],
      "metadata": {
        "id": "44ev8PVtT1m3"
      },
      "id": "44ev8PVtT1m3"
    },
    {
      "cell_type": "code",
      "metadata": {
        "id": "6f26f438"
      },
      "source": [
        "# extrat feature with CountVectorizer\n",
        "corpus = df_x\n",
        "cv = CountVectorizer()\n",
        "X = cv.fit_transform(corpus)"
      ],
      "id": "6f26f438",
      "execution_count": null,
      "outputs": []
    },
    {
      "cell_type": "code",
      "metadata": {
        "colab": {
          "base_uri": "https://localhost:8080/"
        },
        "id": "f79f4479",
        "outputId": "feb60b04-2969-4fc1-add5-29aa29e067a3"
      },
      "source": [
        "# convertingf x to an aray\n",
        "X.toarray()"
      ],
      "id": "f79f4479",
      "execution_count": null,
      "outputs": [
        {
          "output_type": "execute_result",
          "data": {
            "text/plain": [
              "array([[0, 0, 0, ..., 0, 0, 0],\n",
              "       [0, 0, 0, ..., 0, 0, 0],\n",
              "       [0, 0, 0, ..., 0, 0, 0],\n",
              "       ...,\n",
              "       [0, 0, 0, ..., 0, 0, 0],\n",
              "       [0, 0, 0, ..., 0, 0, 0],\n",
              "       [0, 0, 0, ..., 0, 0, 0]])"
            ]
          },
          "metadata": {},
          "execution_count": 37
        }
      ]
    },
    {
      "cell_type": "code",
      "metadata": {
        "colab": {
          "base_uri": "https://localhost:8080/"
        },
        "id": "5ce1dd37",
        "outputId": "61fdef31-cffd-4280-c55d-f6967e911454"
      },
      "source": [
        "# get the feature names\n",
        "cv.get_feature_names()"
      ],
      "id": "5ce1dd37",
      "execution_count": null,
      "outputs": [
        {
          "output_type": "stream",
          "name": "stderr",
          "text": [
            "/usr/local/lib/python3.7/dist-packages/sklearn/utils/deprecation.py:87: FutureWarning: Function get_feature_names is deprecated; get_feature_names is deprecated in 1.0 and will be removed in 1.2. Please use get_feature_names_out instead.\n",
            "  warnings.warn(msg, category=FutureWarning)\n"
          ]
        },
        {
          "output_type": "execute_result",
          "data": {
            "text/plain": [
              "['00',\n",
              " '000',\n",
              " '002',\n",
              " '018',\n",
              " '02',\n",
              " '034',\n",
              " '04',\n",
              " '047000',\n",
              " '05',\n",
              " '053012',\n",
              " '0687119038',\n",
              " '08',\n",
              " '09',\n",
              " '0cb8qfjaa',\n",
              " '0d878a889c',\n",
              " '0dbhjzdw0lbsjbi40gxm0d0p5krhv8xinqli53__wqbahs8zx4mjhw5vwrkpxfoeks',\n",
              " '0laviqu2b',\n",
              " '10',\n",
              " '100',\n",
              " '1000',\n",
              " '10000000',\n",
              " '1000000000',\n",
              " '100000415527985',\n",
              " '100005244783212',\n",
              " '100007085325116',\n",
              " '10001',\n",
              " '100877300245414',\n",
              " '101721377578919894134',\n",
              " '10200253113705769',\n",
              " '1030',\n",
              " '104999962146104962510',\n",
              " '10626048',\n",
              " '10626835',\n",
              " '106865403',\n",
              " '107297364',\n",
              " '1073741825',\n",
              " '1073741828',\n",
              " '1073741830',\n",
              " '1073741943',\n",
              " '108k',\n",
              " '109',\n",
              " '10b35481',\n",
              " '11',\n",
              " '1111',\n",
              " '1111111111111111111',\n",
              " '111719098841907',\n",
              " '111982027348137311818',\n",
              " '112720997191206369631',\n",
              " '11cpwb',\n",
              " '11th',\n",
              " '12',\n",
              " '123',\n",
              " '124',\n",
              " '124923004',\n",
              " '126',\n",
              " '127',\n",
              " '128gb',\n",
              " '12year',\n",
              " '13',\n",
              " '13017194',\n",
              " '131275322914',\n",
              " '131338190916',\n",
              " '1337',\n",
              " '1340488',\n",
              " '1340489',\n",
              " '1340490',\n",
              " '1340491',\n",
              " '1340492',\n",
              " '1340493',\n",
              " '1340494',\n",
              " '1340499',\n",
              " '1340500',\n",
              " '1340502',\n",
              " '1340503',\n",
              " '1340504',\n",
              " '1340517',\n",
              " '1340518',\n",
              " '1340519',\n",
              " '1340520',\n",
              " '1340521',\n",
              " '1340522',\n",
              " '1340523',\n",
              " '1340524',\n",
              " '134470083389909',\n",
              " '14',\n",
              " '1408122684',\n",
              " '1415297812',\n",
              " '1442646731',\n",
              " '1446084',\n",
              " '1461302180794905',\n",
              " '1495323920744243',\n",
              " '1496241863981208',\n",
              " '1496273723978022',\n",
              " '1498561870415874',\n",
              " '14gkvdo',\n",
              " '15',\n",
              " '16',\n",
              " '161620527267482',\n",
              " '16gb',\n",
              " '17',\n",
              " '171183229277',\n",
              " '1727483389',\n",
              " '17yr',\n",
              " '18',\n",
              " '19',\n",
              " '19255',\n",
              " '1990',\n",
              " '19924',\n",
              " '1b',\n",
              " '1bi',\n",
              " '1billiom',\n",
              " '1billion',\n",
              " '1bsefqe',\n",
              " '1fhenqx1twqm153v2ptayiejnealahzvem',\n",
              " '1firo',\n",
              " '1hmvtx',\n",
              " '1k',\n",
              " '1m',\n",
              " '1m00s',\n",
              " '1min',\n",
              " '20',\n",
              " '200',\n",
              " '2004',\n",
              " '2005',\n",
              " '2008',\n",
              " '2009',\n",
              " '200k',\n",
              " '200mm',\n",
              " '2010',\n",
              " '2011',\n",
              " '2012',\n",
              " '2012430',\n",
              " '2012bitches',\n",
              " '2013',\n",
              " '2014',\n",
              " '201470069872822',\n",
              " '2015',\n",
              " '2016',\n",
              " '2017',\n",
              " '207230212795137',\n",
              " '21',\n",
              " '210',\n",
              " '2177367',\n",
              " '229508',\n",
              " '23',\n",
              " '23active',\n",
              " '23awesome',\n",
              " '23eminem',\n",
              " '23everydayimvaping',\n",
              " '23giraffebruuh',\n",
              " '23king',\n",
              " '23kinglothedancer',\n",
              " '23lmfao',\n",
              " '23lovethewayyoulie',\n",
              " '23rapgod',\n",
              " '23rt',\n",
              " '23share',\n",
              " '24',\n",
              " '24398',\n",
              " '243a',\n",
              " '247',\n",
              " '25',\n",
              " '250',\n",
              " '25000',\n",
              " '251638183951',\n",
              " '25874',\n",
              " '25th',\n",
              " '26',\n",
              " '26032883',\n",
              " '26t22',\n",
              " '27',\n",
              " '279',\n",
              " '28',\n",
              " '29',\n",
              " '2asfn9shghk',\n",
              " '2b',\n",
              " '2b4wywphi8c',\n",
              " '2billion',\n",
              " '2f',\n",
              " '2fen',\n",
              " '2flist_of_most_viewed_youtube_videos',\n",
              " '2fwiki',\n",
              " '2m19s',\n",
              " '2nd',\n",
              " '2parale',\n",
              " '2tggp3pv6l',\n",
              " '2x10',\n",
              " '2zme8f',\n",
              " '30',\n",
              " '300',\n",
              " '3000',\n",
              " '301',\n",
              " '302703146601369',\n",
              " '30th',\n",
              " '313327',\n",
              " '313454548839369',\n",
              " '315',\n",
              " '31st',\n",
              " '320',\n",
              " '322',\n",
              " '327568907427561',\n",
              " '32gb',\n",
              " '33',\n",
              " '333',\n",
              " '333607726823679',\n",
              " '333608120156973',\n",
              " '33gxrf',\n",
              " '342',\n",
              " '35',\n",
              " '360',\n",
              " '365',\n",
              " '36loseweight',\n",
              " '385',\n",
              " '387',\n",
              " '3873',\n",
              " '389088',\n",
              " '39',\n",
              " '390',\n",
              " '390875584405933',\n",
              " '391725794320912',\n",
              " '3a',\n",
              " '3bie',\n",
              " '3bkeywords',\n",
              " '3bqid',\n",
              " '3bsr',\n",
              " '3d',\n",
              " '3m',\n",
              " '3m40s',\n",
              " '3m57s',\n",
              " '3rd',\n",
              " '40',\n",
              " '4000',\n",
              " '4000dollars',\n",
              " '40beuutvu2zkxk4utgpz8k',\n",
              " '41',\n",
              " '421',\n",
              " '43',\n",
              " '433',\n",
              " '4344749',\n",
              " '4436607',\n",
              " '4477063',\n",
              " '447935454150',\n",
              " '4483179854075',\n",
              " '448800865296855',\n",
              " '45',\n",
              " '4500',\n",
              " '46',\n",
              " '4604617',\n",
              " '476000',\n",
              " '48051',\n",
              " '482',\n",
              " '484',\n",
              " '490',\n",
              " '492',\n",
              " '4e',\n",
              " '4g',\n",
              " '4gb',\n",
              " '4m11s',\n",
              " '4netjobs',\n",
              " '4s',\n",
              " '4shared',\n",
              " '4snjqp',\n",
              " '4th',\n",
              " '50',\n",
              " '500',\n",
              " '5000',\n",
              " '500k',\n",
              " '500m',\n",
              " '505b0232',\n",
              " '5094',\n",
              " '50k',\n",
              " '510',\n",
              " '515',\n",
              " '521',\n",
              " '5242575',\n",
              " '5277478',\n",
              " '5287',\n",
              " '53331',\n",
              " '5337555197',\n",
              " '53481',\n",
              " '543627485763966',\n",
              " '55',\n",
              " '550',\n",
              " '5575096797',\n",
              " '55mm',\n",
              " '566',\n",
              " '57',\n",
              " '58',\n",
              " '5800',\n",
              " '5af506e1',\n",
              " '5bgkg2iwphzohwaeuesrwnegqg_labco7rw9wfx8hao',\n",
              " '5c',\n",
              " '5c2f',\n",
              " '5ggs_m_9ma3ti40fs6mvpics',\n",
              " '5million',\n",
              " '5s',\n",
              " '5th',\n",
              " '5tu9gn1l310',\n",
              " '60',\n",
              " '600',\n",
              " '600m',\n",
              " '613000',\n",
              " '616375350',\n",
              " '6174122',\n",
              " '629',\n",
              " '629410220489046',\n",
              " '633807',\n",
              " '636',\n",
              " '6381501',\n",
              " '6401116',\n",
              " '661',\n",
              " '666',\n",
              " '674732645945877',\n",
              " '682',\n",
              " '694',\n",
              " '6_h0m5sayho',\n",
              " '6th',\n",
              " '700',\n",
              " '704682339621282',\n",
              " '710',\n",
              " '710000',\n",
              " '73231344',\n",
              " '733634264',\n",
              " '733949243353321',\n",
              " '734237113324534',\n",
              " '74',\n",
              " '750',\n",
              " '753',\n",
              " '754989901225153',\n",
              " '764484966942313',\n",
              " '775510675841486',\n",
              " '783',\n",
              " '79',\n",
              " '7in',\n",
              " '7k',\n",
              " '800',\n",
              " '82',\n",
              " '821',\n",
              " '824',\n",
              " '8252267209931889',\n",
              " '832000',\n",
              " '84',\n",
              " '85',\n",
              " '851',\n",
              " '857',\n",
              " '860',\n",
              " '868',\n",
              " '8692160',\n",
              " '87',\n",
              " '870',\n",
              " '88',\n",
              " '884',\n",
              " '8851222',\n",
              " '898',\n",
              " '89___',\n",
              " '89c',\n",
              " '89iyec7nrwp5nytno5u7amhvmflutggl',\n",
              " '8a',\n",
              " '8bit',\n",
              " '90',\n",
              " '90000000000000000000000000000000000000000000000000000000000000000000000000000000000000000000000000000000000000000000000000000000000000000000000000000000000000000000000000000000000000000000000000000000000000000000000000000000000000000000000000000000000000000000000000000000000000000000000000000000000000000000000000000000000000000000000000000000000000000',\n",
              " '902099',\n",
              " '9082175',\n",
              " '9107',\n",
              " '911',\n",
              " '920',\n",
              " '9277547',\n",
              " '936868579660284',\n",
              " '937732262907249',\n",
              " '940',\n",
              " '950',\n",
              " '969',\n",
              " '999999999',\n",
              " '9bzkp7q19f0',\n",
              " '9gag',\n",
              " '9nl',\n",
              " '_0f9fa8aa',\n",
              " '__',\n",
              " '______________________',\n",
              " '______________________________',\n",
              " '__killuminati94',\n",
              " '_bzszz',\n",
              " '_chris_cz',\n",
              " '_fphgk5zllsvdqv0zuf0mb',\n",
              " '_gibu',\n",
              " '_o3h',\n",
              " '_ry6f57sprnd2xv',\n",
              " '_self',\n",
              " '_thqbeum69aqup1ih',\n",
              " '_trksid',\n",
              " '_vlczzrg8vgctlpsd9ongewhj8',\n",
              " 'a0qouc7q48v3_qiaaabpugaaacsqar0_vgoqwqxjmpuyvkosf3k',\n",
              " 'a7',\n",
              " 'aa',\n",
              " 'aaaaaaa',\n",
              " 'aaas',\n",
              " 'aavpwj9',\n",
              " 'abbas',\n",
              " 'ablaze',\n",
              " 'able',\n",
              " 'abominable',\n",
              " 'abomination',\n",
              " 'abonner',\n",
              " 'about',\n",
              " 'above',\n",
              " 'absolute',\n",
              " 'absolutely',\n",
              " 'absorbing',\n",
              " 'abuse',\n",
              " 'abused',\n",
              " 'abuses',\n",
              " 'abusive',\n",
              " 'abusue',\n",
              " 'ac',\n",
              " 'acaer',\n",
              " 'acceptance',\n",
              " 'access',\n",
              " 'accessories',\n",
              " 'accidental',\n",
              " 'accomplished',\n",
              " 'account',\n",
              " 'accounts',\n",
              " 'achieve',\n",
              " 'achieved',\n",
              " 'acidic',\n",
              " 'aclk',\n",
              " 'acn2g',\n",
              " 'acoustic',\n",
              " 'acquire',\n",
              " 'acquiring',\n",
              " 'across',\n",
              " 'act',\n",
              " 'acting',\n",
              " 'activates',\n",
              " 'active',\n",
              " 'actor',\n",
              " 'actorid',\n",
              " 'actors',\n",
              " 'actresses',\n",
              " 'actual',\n",
              " 'actually',\n",
              " 'ad',\n",
              " 'adam',\n",
              " 'adapt',\n",
              " 'add',\n",
              " 'addicting',\n",
              " 'adding',\n",
              " 'addition',\n",
              " 'adele',\n",
              " 'adf',\n",
              " 'adhoc',\n",
              " 'admirable',\n",
              " 'admire',\n",
              " 'admit',\n",
              " 'admitting',\n",
              " 'adore',\n",
              " 'adoult',\n",
              " 'adroid',\n",
              " 'adsense',\n",
              " 'adult',\n",
              " 'adurl',\n",
              " 'advance',\n",
              " 'advertise',\n",
              " 'advertisements',\n",
              " 'advertisiments',\n",
              " 'advertising',\n",
              " 'advice',\n",
              " 'affiliated',\n",
              " 'affiliateid',\n",
              " 'afflicted',\n",
              " 'afford',\n",
              " 'afiliati',\n",
              " 'afiliere',\n",
              " 'afqjcngkm',\n",
              " 'afraid',\n",
              " 'africa',\n",
              " 'african',\n",
              " 'africans',\n",
              " 'after',\n",
              " 'aftermath',\n",
              " 'again',\n",
              " 'against',\n",
              " 'age',\n",
              " 'ago',\n",
              " 'agree',\n",
              " 'agreeable',\n",
              " 'ah',\n",
              " 'ahead',\n",
              " 'ahhh',\n",
              " 'ai',\n",
              " 'aid',\n",
              " 'aiiima',\n",
              " 'aimbwbfqbzg',\n",
              " 'ain',\n",
              " 'air',\n",
              " 'airlines',\n",
              " 'airplane',\n",
              " 'aka',\n",
              " 'al',\n",
              " 'album',\n",
              " 'alcoholic',\n",
              " 'alert',\n",
              " 'alex',\n",
              " 'alfred',\n",
              " 'ali',\n",
              " 'alive',\n",
              " 'all',\n",
              " 'allot',\n",
              " 'allow',\n",
              " 'allows',\n",
              " 'allways',\n",
              " 'almond',\n",
              " 'almost',\n",
              " 'alo',\n",
              " 'aloidia',\n",
              " 'alone',\n",
              " 'alot',\n",
              " 'already',\n",
              " 'alright',\n",
              " 'also',\n",
              " 'alternate',\n",
              " 'alvar',\n",
              " 'always',\n",
              " 'am',\n",
              " 'amazed',\n",
              " 'amazement',\n",
              " 'amazing',\n",
              " 'amazon',\n",
              " 'ambition',\n",
              " 'ambitious',\n",
              " 'amendment',\n",
              " 'america',\n",
              " 'american',\n",
              " 'americans',\n",
              " 'amiable',\n",
              " 'amount',\n",
              " 'amp',\n",
              " 'amy',\n",
              " 'an',\n",
              " 'ana',\n",
              " 'anaconda',\n",
              " 'analyst',\n",
              " 'anand',\n",
              " 'ancestors',\n",
              " 'and',\n",
              " 'anderson',\n",
              " 'andrew',\n",
              " 'andrijamatf',\n",
              " 'android',\n",
              " 'angel',\n",
              " 'angels',\n",
              " 'angry',\n",
              " 'animal',\n",
              " 'animals',\n",
              " 'animation',\n",
              " 'animations',\n",
              " 'animator',\n",
              " 'anime',\n",
              " 'animes',\n",
              " 'annoyed',\n",
              " 'annoying',\n",
              " 'annoys',\n",
              " 'another',\n",
              " 'ans',\n",
              " 'answer',\n",
              " 'anthem',\n",
              " 'antrobofficial',\n",
              " 'anxious',\n",
              " 'any',\n",
              " 'anybody',\n",
              " 'anymore',\n",
              " 'anyone',\n",
              " 'anything',\n",
              " 'anyway',\n",
              " 'anywhere',\n",
              " 'anywon',\n",
              " 'aod64_1ofc7seh_1pop',\n",
              " 'aplica',\n",
              " 'apocalypse',\n",
              " 'apologies',\n",
              " 'apostles',\n",
              " 'app',\n",
              " 'apparel',\n",
              " 'apparently',\n",
              " 'applause',\n",
              " 'apple',\n",
              " 'applied',\n",
              " 'applocker',\n",
              " 'appoints',\n",
              " 'appreciate',\n",
              " 'appreciated',\n",
              " 'apprecitate',\n",
              " 'approve',\n",
              " 'apps',\n",
              " 'arbitrate',\n",
              " 'are',\n",
              " 'aren',\n",
              " 'arguements',\n",
              " 'arive',\n",
              " 'arkglzjqup0',\n",
              " 'arm',\n",
              " 'army',\n",
              " 'around',\n",
              " 'arrogant',\n",
              " 'arrowgance',\n",
              " 'art',\n",
              " 'artady',\n",
              " 'articles',\n",
              " 'artist',\n",
              " 'artists',\n",
              " 'as',\n",
              " 'aseris',\n",
              " 'asia',\n",
              " 'asian',\n",
              " 'asinine',\n",
              " 'ask',\n",
              " 'asked',\n",
              " 'asking',\n",
              " 'aslamu',\n",
              " 'aspiring',\n",
              " 'aspx',\n",
              " 'ass',\n",
              " 'assume',\n",
              " 'astauand',\n",
              " 'aswell',\n",
              " 'at',\n",
              " 'atlastatlas',\n",
              " 'attacks',\n",
              " 'attention',\n",
              " 'auburn',\n",
              " 'audio',\n",
              " 'audiojungle',\n",
              " 'audit',\n",
              " 'audition',\n",
              " 'auditiondetail_',\n",
              " 'auditioning',\n",
              " 'auditions',\n",
              " 'aunt',\n",
              " 'austin',\n",
              " 'australia',\n",
              " 'authenticviews',\n",
              " 'authority',\n",
              " 'auto',\n",
              " 'autotune',\n",
              " 'autotuned',\n",
              " 'avaaz',\n",
              " 'available',\n",
              " 'avicii',\n",
              " 'avoid',\n",
              " 'aw',\n",
              " 'awards',\n",
              " 'aware',\n",
              " 'away',\n",
              " 'aways',\n",
              " 'awesom',\n",
              " 'awesome',\n",
              " 'awesomeness',\n",
              " 'awesoooome',\n",
              " 'awesum',\n",
              " 'awful',\n",
              " 'awsome',\n",
              " 'axeljonssons',\n",
              " 'axiomatic',\n",
              " 'axy665',\n",
              " 'aye',\n",
              " 'ayyy',\n",
              " 'azerbaijan',\n",
              " 'b00ecvf93g',\n",
              " 'b00mppqhri',\n",
              " 'b3',\n",
              " 'b5',\n",
              " 'b5t',\n",
              " 'b7b',\n",
              " 'b8l',\n",
              " 'ba',\n",
              " 'baba',\n",
              " 'babe',\n",
              " 'baby',\n",
              " 'back',\n",
              " 'bad',\n",
              " 'bady',\n",
              " 'ball',\n",
              " 'ballad',\n",
              " 'balls',\n",
              " 'band',\n",
              " 'bands',\n",
              " 'bang',\n",
              " 'bangers',\n",
              " 'banging',\n",
              " 'bangladesh',\n",
              " 'barnesandnoble',\n",
              " 'bars',\n",
              " 'base',\n",
              " 'based',\n",
              " 'basically',\n",
              " 'basketball',\n",
              " 'bass',\n",
              " 'bastard',\n",
              " 'bd3721315',\n",
              " 'bdp',\n",
              " 'be',\n",
              " 'beast',\n",
              " 'beat',\n",
              " 'beatboxing',\n",
              " 'beaties',\n",
              " 'beating',\n",
              " 'beats',\n",
              " 'beautiful',\n",
              " 'beauty',\n",
              " 'because',\n",
              " 'become',\n",
              " 'becomes',\n",
              " 'been',\n",
              " 'before',\n",
              " 'begin',\n",
              " 'beginning',\n",
              " 'behavior',\n",
              " 'behind',\n",
              " 'behold',\n",
              " 'beibs',\n",
              " 'being',\n",
              " 'belarus',\n",
              " 'belgique',\n",
              " 'belgium',\n",
              " 'believe',\n",
              " 'believemefilm',\n",
              " 'believer',\n",
              " 'believing',\n",
              " 'bella',\n",
              " 'belle',\n",
              " 'belly',\n",
              " 'below',\n",
              " 'belrus',\n",
              " 'beneath',\n",
              " 'bengal',\n",
              " 'bennett',\n",
              " 'berzerk',\n",
              " 'besloor',\n",
              " 'best',\n",
              " 'bet',\n",
              " 'beta',\n",
              " 'betfair',\n",
              " 'better',\n",
              " 'between',\n",
              " 'beutiful',\n",
              " 'beware',\n",
              " 'bf4',\n",
              " 'bg',\n",
              " 'bgq',\n",
              " 'bieber',\n",
              " 'big',\n",
              " 'bigboss286',\n",
              " 'bigelow',\n",
              " 'bigger',\n",
              " 'bighit',\n",
              " 'bikini',\n",
              " 'bil',\n",
              " 'bilion',\n",
              " 'billboard',\n",
              " 'billie',\n",
              " 'billion',\n",
              " 'billions',\n",
              " 'billon',\n",
              " 'bills',\n",
              " 'binbox',\n",
              " 'bing',\n",
              " 'birtgday',\n",
              " 'birthday',\n",
              " 'bisexual',\n",
              " 'bishopsgravemarker',\n",
              " 'bit',\n",
              " 'bitch',\n",
              " 'bitcoins',\n",
              " 'bite',\n",
              " 'black',\n",
              " 'blanc',\n",
              " 'blank',\n",
              " 'blast',\n",
              " 'bleach',\n",
              " 'bless',\n",
              " 'blessing',\n",
              " 'block',\n",
              " 'blog',\n",
              " 'blogfa',\n",
              " 'blogspot',\n",
              " 'blond',\n",
              " 'blonde',\n",
              " 'blow',\n",
              " 'blows',\n",
              " 'blue',\n",
              " 'blushing',\n",
              " 'boa',\n",
              " 'boaconic',\n",
              " 'bocilile',\n",
              " 'body',\n",
              " 'bogdan',\n",
              " 'bomb',\n",
              " 'bones',\n",
              " 'bonus',\n",
              " 'boobs',\n",
              " 'book',\n",
              " 'bookies',\n",
              " 'bookmakers',\n",
              " 'boomerul',\n",
              " 'boooobs',\n",
              " 'boost',\n",
              " 'border',\n",
              " 'borderlands',\n",
              " 'bored',\n",
              " 'boring',\n",
              " 'born',\n",
              " 'bother',\n",
              " 'bots',\n",
              " 'bottom',\n",
              " 'bout',\n",
              " 'bowl',\n",
              " 'box',\n",
              " 'boxium',\n",
              " 'boy',\n",
              " 'boyfriend',\n",
              " 'boys',\n",
              " 'bps',\n",
              " 'br',\n",
              " 'brah',\n",
              " 'brain',\n",
              " 'brake',\n",
              " 'brand',\n",
              " 'brave',\n",
              " 'brazil',\n",
              " 'brazilian',\n",
              " 'break',\n",
              " 'breaken',\n",
              " 'breaks',\n",
              " 'breath',\n",
              " 'brew',\n",
              " 'briefs',\n",
              " 'bring',\n",
              " 'bringing',\n",
              " 'brings',\n",
              " 'brinkman',\n",
              " 'british',\n",
              " 'britishs',\n",
              " 'broken',\n",
              " 'brooooo',\n",
              " 'brother',\n",
              " 'brotherhood',\n",
              " 'brothers',\n",
              " 'brought',\n",
              " 'browser',\n",
              " 'brt0u5',\n",
              " 'brutally',\n",
              " 'bs',\n",
              " 'btw',\n",
              " 'bubblews',\n",
              " 'buchmair',\n",
              " 'bucket',\n",
              " 'bucks',\n",
              " 'buggti',\n",
              " 'build',\n",
              " 'bulgaria',\n",
              " 'bumps',\n",
              " 'bunch',\n",
              " 'burda',\n",
              " 'burder',\n",
              " 'burned',\n",
              " 'burst',\n",
              " 'bus',\n",
              " 'business',\n",
              " 'busyglide',\n",
              " 'but',\n",
              " 'butalabs',\n",
              " 'butt',\n",
              " 'button',\n",
              " 'butts',\n",
              " 'buy',\n",
              " 'buys',\n",
              " 'buzz',\n",
              " 'bv',\n",
              " 'bvm',\n",
              " 'bxrosr',\n",
              " 'by',\n",
              " 'c3',\n",
              " 'c349',\n",
              " 'ca',\n",
              " 'cabelo',\n",
              " 'cachebuster',\n",
              " 'cad',\n",
              " 'call',\n",
              " 'called',\n",
              " 'calls',\n",
              " 'came',\n",
              " 'camera',\n",
              " 'cameraman',\n",
              " 'camp',\n",
              " 'campid',\n",
              " 'can',\n",
              " 'canal',\n",
              " 'cancer',\n",
              " 'canibus',\n",
              " 'cant',\n",
              " 'canvas',\n",
              " 'cap',\n",
              " 'capitalized',\n",
              " 'car',\n",
              " 'card',\n",
              " 'cards',\n",
              " 'care',\n",
              " 'career',\n",
              " 'cares',\n",
              " 'caroline',\n",
              " 'case',\n",
              " 'cash',\n",
              " 'catch',\n",
              " 'catchy',\n",
              " 'categories',\n",
              " 'cats',\n",
              " 'cause',\n",
              " 'caution',\n",
              " 'cazzy',\n",
              " 'cd',\n",
              " 'cd92db3f4',\n",
              " 'ce',\n",
              " 'cease',\n",
              " 'cece',\n",
              " 'celeb',\n",
              " 'celebrate',\n",
              " 'celebrated',\n",
              " 'celebration',\n",
              " 'celebrity',\n",
              " 'censor',\n",
              " 'cent',\n",
              " 'central',\n",
              " 'cents',\n",
              " 'cereal',\n",
              " 'certain',\n",
              " 'certification',\n",
              " 'cevxzvsjlk8',\n",
              " 'cge',\n",
              " 'chacking',\n",
              " 'chainise',\n",
              " 'challenge',\n",
              " 'challenges',\n",
              " 'champion',\n",
              " 'chance',\n",
              " 'chanel',\n",
              " 'chanell',\n",
              " 'change',\n",
              " 'changeable',\n",
              " 'chanicka',\n",
              " 'channel',\n",
              " 'channels',\n",
              " 'channnnnnelll',\n",
              " 'chanson',\n",
              " 'chap',\n",
              " 'characterized',\n",
              " 'charity',\n",
              " 'charley',\n",
              " 'charlie',\n",
              " 'charlieee',\n",
              " 'chaste',\n",
              " 'chaîne',\n",
              " 'chcfcvzfzfbvzdr',\n",
              " 'cheat',\n",
              " 'cheating',\n",
              " 'cheats',\n",
              " 'check',\n",
              " 'checked',\n",
              " 'checking',\n",
              " 'cheer',\n",
              " 'cheers',\n",
              " 'cheetos',\n",
              " 'cheilith',\n",
              " 'chesture',\n",
              " 'chhanel',\n",
              " 'chick',\n",
              " 'child',\n",
              " 'children',\n",
              " 'chillpal',\n",
              " 'chills',\n",
              " 'chillstep',\n",
              " 'china',\n",
              " 'chinese',\n",
              " 'ching',\n",
              " 'chiptunes',\n",
              " 'choice',\n",
              " 'chooses',\n",
              " 'chorenn',\n",
              " 'chorus',\n",
              " 'chose',\n",
              " 'chrck',\n",
              " 'christ',\n",
              " 'christianity',\n",
              " 'christians',\n",
              " 'christmas',\n",
              " 'chubby',\n",
              " 'chubbz',\n",
              " 'chuck',\n",
              " 'cid',\n",
              " 'cirus',\n",
              " 'citizen',\n",
              " ...]"
            ]
          },
          "metadata": {},
          "execution_count": 38
        }
      ]
    },
    {
      "cell_type": "markdown",
      "source": [
        "## Model Building"
      ],
      "metadata": {
        "id": "dFj-rbKeOfg7"
      },
      "id": "dFj-rbKeOfg7"
    },
    {
      "cell_type": "code",
      "metadata": {
        "id": "4a15530c"
      },
      "source": [
        "# module building\n",
        "from sklearn.model_selection import train_test_split"
      ],
      "id": "4a15530c",
      "execution_count": null,
      "outputs": []
    },
    {
      "cell_type": "code",
      "metadata": {
        "id": "a6d97906"
      },
      "source": [
        "#training\n",
        "X_train,X_test,y_train,y_test = train_test_split(X,df_y,test_size=0.33,random_state = 42)"
      ],
      "id": "a6d97906",
      "execution_count": null,
      "outputs": []
    },
    {
      "cell_type": "code",
      "metadata": {
        "colab": {
          "base_uri": "https://localhost:8080/"
        },
        "id": "3b168cd4",
        "outputId": "28f4118b-f318-4ad9-be3b-3107e4d8a7ce"
      },
      "source": [
        "# see X_train\n",
        "X_train"
      ],
      "id": "3b168cd4",
      "execution_count": null,
      "outputs": [
        {
          "output_type": "execute_result",
          "data": {
            "text/plain": [
              "<1310x4454 sparse matrix of type '<class 'numpy.int64'>'\n",
              "\twith 17525 stored elements in Compressed Sparse Row format>"
            ]
          },
          "metadata": {},
          "execution_count": 41
        }
      ]
    },
    {
      "cell_type": "markdown",
      "source": [
        "## Analyzer and apply algorithm"
      ],
      "metadata": {
        "id": "lIHFKWMxOmc7"
      },
      "id": "lIHFKWMxOmc7"
    },
    {
      "cell_type": "code",
      "source": [
        "from sklearn.neighbors import KNeighborsClassifier,KNeighborsRegressor\n",
        "KNNC = KNeighborsClassifier()\n",
        "KNNC.fit(X_train,y_train)\n",
        "print(f\"Train Accuracy of model {KNNC.score(X_train,y_train)*100} %\")\n",
        "# acuracy of our model\n",
        "print(f\"Test Accuracy of model {KNNC.score(X_test,y_test)*100} %\")"
      ],
      "metadata": {
        "colab": {
          "base_uri": "https://localhost:8080/"
        },
        "id": "9kqQMhafDitK",
        "outputId": "db8d0629-fdc7-4fbe-cffb-59a561c8f577"
      },
      "id": "9kqQMhafDitK",
      "execution_count": null,
      "outputs": [
        {
          "output_type": "stream",
          "name": "stdout",
          "text": [
            "Train Accuracy of model 90.53435114503817 %\n",
            "Test Accuracy of model 89.00928792569658 %\n"
          ]
        }
      ]
    },
    {
      "cell_type": "code",
      "source": [
        "from sklearn.tree import DecisionTreeClassifier, DecisionTreeRegressor\n",
        "dtc = DecisionTreeClassifier()\n",
        "dtc.fit(X_train,y_train)\n",
        "print(f\"Train Accuracy of model {dtc.score(X_train,y_train)*100} %\")\n",
        "# acuracy of our model\n",
        "print(f\"Test Accuracy of model {dtc.score(X_test,y_test)*100} %\")"
      ],
      "metadata": {
        "colab": {
          "base_uri": "https://localhost:8080/"
        },
        "id": "ifXRy4XmDiqp",
        "outputId": "609b28ac-5963-4b92-c08a-de64177f71d8"
      },
      "id": "ifXRy4XmDiqp",
      "execution_count": null,
      "outputs": [
        {
          "output_type": "stream",
          "name": "stdout",
          "text": [
            "Train Accuracy of model 100.0 %\n",
            "Test Accuracy of model 95.20123839009288 %\n"
          ]
        }
      ]
    },
    {
      "cell_type": "code",
      "source": [
        "from sklearn.ensemble import RandomForestClassifier, RandomForestRegressor\n",
        "Rfc= RandomForestClassifier()\n",
        "Rfc.fit(X_train,y_train)\n",
        "print(f\"Train Accuracy of model {Rfc.score(X_train,y_train)*100} %\")\n",
        "# acuracy of our model\n",
        "print(f\"Test Accuracy of model {Rfc.score(X_test,y_test)*100} %\")"
      ],
      "metadata": {
        "colab": {
          "base_uri": "https://localhost:8080/"
        },
        "id": "7tcjwt_GDinm",
        "outputId": "9c2725e5-a245-4948-d616-cc5238ef6dc9"
      },
      "id": "7tcjwt_GDinm",
      "execution_count": null,
      "outputs": [
        {
          "output_type": "stream",
          "name": "stdout",
          "text": [
            "Train Accuracy of model 100.0 %\n",
            "Test Accuracy of model 95.6656346749226 %\n"
          ]
        }
      ]
    },
    {
      "cell_type": "code",
      "source": [
        "from sklearn.svm import SVC\n",
        "from pandas.core.common import random_state\n",
        "svc = SVC(random_state=101)\n",
        "svc.fit(X_train,y_train)\n",
        "print(f\"Train Accuracy of model {svc.score(X_train,y_train)*100} %\")\n",
        "# acuracy of our model\n",
        "print(f\"Test Accuracy of model {svc.score(X_test,y_test)*100} %\")"
      ],
      "metadata": {
        "colab": {
          "base_uri": "https://localhost:8080/"
        },
        "id": "30awuhaUGZoh",
        "outputId": "56ae57ee-361e-485e-ec32-4cde2fb56728"
      },
      "id": "30awuhaUGZoh",
      "execution_count": null,
      "outputs": [
        {
          "output_type": "stream",
          "name": "stdout",
          "text": [
            "Train Accuracy of model 96.94656488549617 %\n",
            "Test Accuracy of model 93.96284829721363 %\n"
          ]
        }
      ]
    },
    {
      "cell_type": "code",
      "metadata": {
        "colab": {
          "base_uri": "https://localhost:8080/"
        },
        "id": "fd33aed6",
        "outputId": "9b57c624-7103-49a9-cc4a-bb03ff4d394d"
      },
      "source": [
        "# Naive Bayes Classifire\n",
        "from sklearn.naive_bayes import MultinomialNB\n",
        "clf = MultinomialNB()\n",
        "clf.fit(X_train,y_train)\n",
        "print(f\"Train Accuracy of model {clf.score(X_train,y_train)*100} %\")\n",
        "# acuracy of our model\n",
        "print(f\"Test Accuracy of model {clf.score(X_test,y_test)*100} %\")\n"
      ],
      "id": "fd33aed6",
      "execution_count": null,
      "outputs": [
        {
          "output_type": "stream",
          "name": "stdout",
          "text": [
            "Train Accuracy of model 96.18320610687023 %\n",
            "Test Accuracy of model 91.95046439628483 %\n"
          ]
        }
      ]
    },
    {
      "cell_type": "markdown",
      "source": [
        "## Confusion Matrix"
      ],
      "metadata": {
        "id": "JxSq2na1Op_s"
      },
      "id": "JxSq2na1Op_s"
    },
    {
      "cell_type": "code",
      "source": [
        "from sklearn.metrics import plot_confusion_matrix\n",
        "import matplotlib.pyplot as plt\n",
        "plot_confusion_matrix(clf,X_test,y_test,cmap='BuPu_r',display_labels=['negative','positive'])\n",
        "plt.show()"
      ],
      "metadata": {
        "colab": {
          "base_uri": "https://localhost:8080/",
          "height": 333
        },
        "id": "zTdwxaYSGHK7",
        "outputId": "e77603f2-4fe2-4f1b-d556-32b8da8ca2df"
      },
      "id": "zTdwxaYSGHK7",
      "execution_count": null,
      "outputs": [
        {
          "output_type": "stream",
          "name": "stderr",
          "text": [
            "/usr/local/lib/python3.7/dist-packages/sklearn/utils/deprecation.py:87: FutureWarning: Function plot_confusion_matrix is deprecated; Function `plot_confusion_matrix` is deprecated in 1.0 and will be removed in 1.2. Use one of the class methods: ConfusionMatrixDisplay.from_predictions or ConfusionMatrixDisplay.from_estimator.\n",
            "  warnings.warn(msg, category=FutureWarning)\n"
          ]
        },
        {
          "output_type": "display_data",
          "data": {
            "text/plain": [
              "<Figure size 432x288 with 2 Axes>"
            ],
            "image/png": "[encoded data removed]"
          },
          "metadata": {
            "needs_background": "light"
          }
        }
      ]
    },
    {
      "cell_type": "markdown",
      "source": [
        "## Predict & Output"
      ],
      "metadata": {
        "id": "WWZ8QXJ-UCzc"
      },
      "id": "WWZ8QXJ-UCzc"
    },
    {
      "cell_type": "code",
      "metadata": {
        "colab": {
          "base_uri": "https://localhost:8080/"
        },
        "id": "4e3656b3",
        "outputId": "79bb374f-942d-48fb-8947-18e4755c0814"
      },
      "source": [
        "## predict with our model\n",
        "clf.predict(X_test)"
      ],
      "id": "4e3656b3",
      "execution_count": null,
      "outputs": [
        {
          "output_type": "execute_result",
          "data": {
            "text/plain": [
              "array([0, 0, 0, 1, 1, 0, 1, 1, 0, 1, 1, 0, 1, 0, 0, 1, 1, 0, 1, 0, 1, 0,\n",
              "       1, 1, 1, 0, 0, 0, 0, 1, 1, 1, 1, 0, 1, 1, 1, 1, 0, 0, 0, 1, 0, 1,\n",
              "       1, 1, 1, 1, 0, 1, 1, 0, 1, 1, 0, 0, 1, 0, 1, 1, 1, 1, 1, 1, 0, 0,\n",
              "       0, 1, 0, 1, 0, 1, 1, 0, 1, 0, 1, 0, 0, 0, 0, 0, 1, 0, 1, 1, 1, 1,\n",
              "       1, 1, 0, 1, 1, 0, 0, 0, 1, 0, 0, 1, 1, 1, 1, 0, 0, 0, 1, 1, 1, 1,\n",
              "       0, 1, 0, 1, 0, 0, 0, 1, 0, 1, 1, 1, 0, 0, 0, 0, 1, 1, 1, 1, 1, 1,\n",
              "       1, 0, 1, 0, 1, 1, 0, 1, 1, 1, 1, 0, 1, 0, 1, 0, 1, 1, 0, 0, 0, 1,\n",
              "       1, 1, 1, 1, 1, 0, 1, 1, 0, 1, 1, 1, 0, 1, 1, 1, 0, 0, 0, 1, 0, 1,\n",
              "       0, 1, 1, 1, 0, 1, 0, 0, 1, 1, 1, 1, 0, 1, 1, 1, 1, 0, 1, 1, 1, 0,\n",
              "       1, 0, 0, 0, 0, 1, 0, 0, 0, 0, 1, 0, 1, 1, 0, 1, 0, 1, 1, 0, 1, 0,\n",
              "       1, 1, 0, 1, 1, 0, 0, 1, 1, 0, 0, 1, 0, 1, 1, 1, 1, 1, 0, 0, 1, 1,\n",
              "       1, 1, 1, 1, 1, 1, 1, 0, 0, 0, 1, 0, 1, 0, 0, 1, 1, 1, 0, 1, 1, 1,\n",
              "       1, 1, 0, 0, 0, 1, 1, 1, 1, 0, 1, 0, 1, 0, 0, 1, 0, 0, 1, 0, 0, 0,\n",
              "       1, 0, 0, 1, 1, 0, 0, 1, 1, 1, 1, 1, 1, 0, 0, 1, 0, 0, 0, 1, 1, 1,\n",
              "       0, 0, 0, 1, 1, 1, 1, 0, 1, 1, 0, 1, 0, 1, 0, 0, 1, 1, 1, 1, 0, 1,\n",
              "       1, 0, 0, 0, 0, 0, 0, 0, 0, 0, 1, 0, 0, 0, 1, 1, 0, 0, 1, 0, 0, 0,\n",
              "       1, 1, 0, 1, 0, 1, 1, 1, 1, 0, 1, 1, 1, 0, 1, 0, 1, 1, 0, 1, 1, 1,\n",
              "       1, 0, 0, 0, 1, 1, 1, 1, 1, 0, 1, 0, 0, 0, 0, 0, 0, 0, 0, 0, 0, 0,\n",
              "       1, 1, 1, 0, 1, 0, 1, 1, 0, 1, 0, 0, 1, 1, 1, 1, 1, 0, 1, 1, 0, 1,\n",
              "       0, 0, 0, 1, 0, 0, 0, 0, 0, 0, 0, 0, 1, 1, 0, 1, 1, 1, 0, 1, 1, 0,\n",
              "       0, 1, 1, 0, 0, 1, 1, 0, 1, 1, 1, 1, 0, 1, 1, 0, 1, 0, 0, 0, 1, 1,\n",
              "       1, 1, 0, 1, 1, 1, 0, 0, 1, 0, 0, 1, 0, 0, 1, 1, 0, 1, 0, 1, 1, 1,\n",
              "       1, 1, 0, 1, 0, 0, 0, 0, 1, 0, 1, 0, 1, 0, 1, 0, 1, 0, 1, 1, 0, 0,\n",
              "       0, 0, 1, 0, 0, 1, 1, 0, 0, 1, 1, 0, 0, 0, 1, 1, 0, 1, 0, 1, 0, 0,\n",
              "       0, 0, 1, 0, 1, 0, 1, 0, 0, 1, 1, 0, 1, 1, 1, 0, 0, 1, 1, 0, 0, 1,\n",
              "       0, 1, 0, 0, 0, 1, 0, 1, 0, 0, 1, 0, 0, 1, 0, 1, 1, 1, 0, 0, 1, 0,\n",
              "       1, 0, 1, 0, 1, 0, 0, 0, 1, 1, 1, 0, 0, 1, 0, 1, 0, 0, 1, 1, 1, 1,\n",
              "       1, 0, 0, 1, 1, 1, 1, 1, 0, 0, 0, 0, 1, 0, 1, 1, 1, 0, 0, 1, 0, 0,\n",
              "       0, 1, 0, 0, 0, 0, 0, 1, 0, 1, 1, 0, 0, 0, 1, 1, 1, 1, 0, 1, 1, 0,\n",
              "       1, 1, 1, 0, 1, 0, 0, 0])"
            ]
          },
          "metadata": {},
          "execution_count": 48
        }
      ]
    },
    {
      "cell_type": "markdown",
      "source": [
        "## Testing"
      ],
      "metadata": {
        "id": "xm0GhS3JOvD_"
      },
      "id": "xm0GhS3JOvD_"
    },
    {
      "cell_type": "code",
      "source": [
        "## TEST 1"
      ],
      "metadata": {
        "id": "uoBsBZBKHWEr"
      },
      "id": "uoBsBZBKHWEr",
      "execution_count": null,
      "outputs": []
    },
    {
      "cell_type": "code",
      "metadata": {
        "id": "328b08aa",
        "colab": {
          "base_uri": "https://localhost:8080/"
        },
        "outputId": "a16ed2c6-0ffb-4e97-c083-1f784ffbaccf"
      },
      "source": [
        "# a simple prediction 1\n",
        "comment = [\"Check this out\"]\n",
        "vect = cv.transform(comment).toarray()\n",
        "vect"
      ],
      "id": "328b08aa",
      "execution_count": null,
      "outputs": [
        {
          "output_type": "execute_result",
          "data": {
            "text/plain": [
              "array([[0, 0, 0, ..., 0, 0, 0]])"
            ]
          },
          "metadata": {},
          "execution_count": 50
        }
      ]
    },
    {
      "cell_type": "code",
      "metadata": {
        "colab": {
          "base_uri": "https://localhost:8080/"
        },
        "id": "569eb3c4",
        "outputId": "9a6c3ce5-c4a1-4076-c308-163c5e9b3bee"
      },
      "source": [
        "clf.predict(vect)"
      ],
      "id": "569eb3c4",
      "execution_count": null,
      "outputs": [
        {
          "output_type": "execute_result",
          "data": {
            "text/plain": [
              "array([1])"
            ]
          },
          "metadata": {},
          "execution_count": 51
        }
      ]
    },
    {
      "cell_type": "code",
      "metadata": {
        "colab": {
          "base_uri": "https://localhost:8080/"
        },
        "id": "87373bb1",
        "outputId": "4b229cb0-7ed1-4318-c912-c7d1b579143e"
      },
      "source": [
        "class_dict = {\"Not Spam\":0,\"Spam\":1}\n",
        "class_dict.values()"
      ],
      "id": "87373bb1",
      "execution_count": null,
      "outputs": [
        {
          "output_type": "execute_result",
          "data": {
            "text/plain": [
              "dict_values([0, 1])"
            ]
          },
          "metadata": {},
          "execution_count": 52
        }
      ]
    },
    {
      "cell_type": "code",
      "metadata": {
        "colab": {
          "base_uri": "https://localhost:8080/"
        },
        "id": "17ea45d7",
        "outputId": "0606a7a7-6c02-42a3-88cb-87525970059c"
      },
      "source": [
        "if clf.predict(vect) == 1:\n",
        "    print(\"Spam\")\n",
        "else:\n",
        "    print(\"Not Spam\")"
      ],
      "id": "17ea45d7",
      "execution_count": null,
      "outputs": [
        {
          "output_type": "stream",
          "name": "stdout",
          "text": [
            "Spam\n"
          ]
        }
      ]
    },
    {
      "cell_type": "code",
      "metadata": {
        "id": "84423ae7"
      },
      "source": [
        "## TEST 2"
      ],
      "id": "84423ae7",
      "execution_count": null,
      "outputs": []
    },
    {
      "cell_type": "code",
      "metadata": {
        "colab": {
          "base_uri": "https://localhost:8080/"
        },
        "id": "10ea5c39",
        "outputId": "af49daec-14f5-47bd-c7e9-f701c6c7d392"
      },
      "source": [
        "# simple Prerdiction 2\n",
        "comment1 = [str(input())]\n",
        "vect = cv.transform(comment1).toarray()\n",
        "print(clf.predict(vect))\n",
        "if clf.predict(vect) == 1:\n",
        "    print(\"Spam\")\n",
        "else:\n",
        "    print(\"Not Spam\")"
      ],
      "id": "10ea5c39",
      "execution_count": null,
      "outputs": [
        {
          "output_type": "stream",
          "name": "stdout",
          "text": [
            "good song\n",
            "[0]\n",
            "Not Spam\n"
          ]
        }
      ]
    },
    {
      "cell_type": "markdown",
      "source": [
        "## Save The model"
      ],
      "metadata": {
        "id": "-scahfsTO2jU"
      },
      "id": "-scahfsTO2jU"
    },
    {
      "cell_type": "code",
      "metadata": {
        "id": "49775e57"
      },
      "source": [
        "\n",
        "import pickle as pk"
      ],
      "id": "49775e57",
      "execution_count": null,
      "outputs": []
    },
    {
      "cell_type": "code",
      "metadata": {
        "id": "76e12175"
      },
      "source": [
        "naivebayesML = open(\"YtbSpam_model.pkl\",\"wb\")"
      ],
      "id": "76e12175",
      "execution_count": null,
      "outputs": []
    },
    {
      "cell_type": "code",
      "metadata": {
        "id": "2900e7ef"
      },
      "source": [
        "pk.dump(clf,naivebayesML)"
      ],
      "id": "2900e7ef",
      "execution_count": null,
      "outputs": []
    },
    {
      "cell_type": "code",
      "metadata": {
        "id": "b27b52f5"
      },
      "source": [
        "naivebayesML.close()"
      ],
      "id": "b27b52f5",
      "execution_count": null,
      "outputs": []
    },
    {
      "cell_type": "code",
      "metadata": {
        "id": "9cab625a"
      },
      "source": [
        "## load the model\n",
        "\n",
        "ytb_model = open(\"YtbSpam_model.pkl\",\"rb\")"
      ],
      "id": "9cab625a",
      "execution_count": null,
      "outputs": []
    },
    {
      "cell_type": "code",
      "metadata": {
        "id": "f64e2a97"
      },
      "source": [
        "new_model = pk.load(ytb_model)"
      ],
      "id": "f64e2a97",
      "execution_count": null,
      "outputs": []
    },
    {
      "cell_type": "code",
      "metadata": {
        "colab": {
          "base_uri": "https://localhost:8080/"
        },
        "id": "2f0b2d30",
        "outputId": "289c5095-baa8-4302-fd7c-535522ae07c2"
      },
      "source": [
        "new_model"
      ],
      "id": "2f0b2d30",
      "execution_count": null,
      "outputs": [
        {
          "output_type": "execute_result",
          "data": {
            "text/plain": [
              "MultinomialNB()"
            ]
          },
          "metadata": {},
          "execution_count": 62
        }
      ]
    },
    {
      "cell_type": "code",
      "metadata": {
        "id": "ddfd1f57"
      },
      "source": [
        ""
      ],
      "id": "ddfd1f57",
      "execution_count": null,
      "outputs": []
    },
    {
      "cell_type": "code",
      "metadata": {
        "id": "1cc71855"
      },
      "source": [
        ""
      ],
      "id": "1cc71855",
      "execution_count": null,
      "outputs": []
    },
    {
      "cell_type": "markdown",
      "source": [
        ""
      ],
      "metadata": {
        "id": "RUL82o1ZGLi8"
      },
      "id": "RUL82o1ZGLi8"
    }
  ]
}